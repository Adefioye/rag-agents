{
 "cells": [
  {
   "cell_type": "markdown",
   "id": "22d8cc19-b3c1-4196-b589-4c5ee4a60c68",
   "metadata": {},
   "source": [
    "# Basic Multi-agent Collaboration\n",
    "\n",
    "![](./img/simple_multi_agent_diagram.png)"
   ]
  },
  {
   "cell_type": "markdown",
   "id": "5c454c6b-91c4-4901-b1f1-6733e0bbfed7",
   "metadata": {},
   "source": [
    "- Set up\n",
    "- Create agent from llm, system_message and tools(with prompt nested)\n",
    "- Define tools\n",
    "- Define Agent state\n",
    "- Define agent nodes\n",
    "- Define tool node\n",
    "- Define Edge logic\n",
    "- Define graph\n",
    "- Invoke"
   ]
  },
  {
   "cell_type": "markdown",
   "id": "e8da59f2-0450-445c-96b2-d0fe5e452fdc",
   "metadata": {},
   "source": [
    "# Set up"
   ]
  },
  {
   "cell_type": "code",
   "execution_count": 1,
   "id": "3ca14a0e-7baf-4582-a09b-418d77b5397d",
   "metadata": {},
   "outputs": [],
   "source": [
    "#!pip install -U langchain langchain_openai langsmith pandas langchain_experimental matplotlib langgraph langchain_core"
   ]
  },
  {
   "cell_type": "code",
   "execution_count": 1,
   "id": "afef58cf-b7a1-411e-810b-5a75d809c686",
   "metadata": {},
   "outputs": [
    {
     "name": "stdin",
     "output_type": "stream",
     "text": [
      "Pass in OPENAI_API_KEY ········\n",
      "Pass in TAVILY_API_KEY ········\n",
      "Pass in LANGCHAIN_API_KEY ········\n"
     ]
    }
   ],
   "source": [
    "import os\n",
    "from getpass import getpass\n",
    "\n",
    "def _set_if_undefined(var: str):\n",
    "    if not os.environ.get(var):\n",
    "        os.environ[var] = getpass(f\"Pass in {var}\")\n",
    "\n",
    "_set_if_undefined(\"OPENAI_API_KEY\")\n",
    "_set_if_undefined(\"TAVILY_API_KEY\")\n",
    "_set_if_undefined(\"LANGCHAIN_API_KEY\")"
   ]
  },
  {
   "cell_type": "code",
   "execution_count": 2,
   "id": "c7c4c75e-8cb3-4269-9577-bc2435002925",
   "metadata": {},
   "outputs": [],
   "source": [
    "# Optional, add tracing in LangSmith\n",
    "os.environ[\"LANGCHAIN_TRACING_V2\"] = \"true\"\n",
    "os.environ[\"LANGCHAIN_PROJECT\"] = \"Multi-agent Collaboration\""
   ]
  },
  {
   "cell_type": "markdown",
   "id": "1411b7e6-51a6-4306-968d-2ca83bc027c4",
   "metadata": {},
   "source": [
    "# Create agent"
   ]
  },
  {
   "cell_type": "code",
   "execution_count": 3,
   "id": "8ab71983-c81c-4881-8645-336feb1eccd8",
   "metadata": {},
   "outputs": [],
   "source": [
    "from langchain_core.prompts.chat import ChatPromptTemplate, MessagesPlaceholder\n",
    "from langchain_core.utils.function_calling import convert_to_openai_function\n",
    "\n",
    "def create_agent(llm, tools, system_message: str):\n",
    "    \"\"\"Create an agent\"\"\"\n",
    "    functions = [convert_to_openai_function(tool) for tool in tools]\n",
    "    prompt = ChatPromptTemplate.from_messages([\n",
    "        (\n",
    "            \"system\",\n",
    "            \"You are a helpful AI assistant, collaborating with other assistants.\"\n",
    "            \" Use the provided tools to progress towards answering the question.\"\n",
    "            \" If you are unable to fully answer, that's OK, another assistant with different tools \"\n",
    "            \" will help where you left off. Execute what you can to make progress.\"\n",
    "            \" Please note, the answer is out there, use research tool as much as you can until you get to the answer\"\n",
    "            \" If you or any of the other assistants have the final answer or deliverable,\"\n",
    "            \" prefix your response with FINAL ANSWER so the team knows to stop.\"\n",
    "            \" You have access to the following tools: {tool_names}.\\n{system_message}\",\n",
    "        ),\n",
    "        MessagesPlaceholder(variable_name=\"messages\")\n",
    "    ])\n",
    "    prompt = prompt.partial(system_message=system_message)\n",
    "    prompt = prompt.partial(tool_names=\", \".join([tool.name for tool in tools]))\n",
    "\n",
    "    return prompt | llm.bind_functions(functions)\n",
    "    \n",
    "    "
   ]
  },
  {
   "cell_type": "markdown",
   "id": "dba5a999-e8c0-42d9-b01a-fa27c13adac8",
   "metadata": {},
   "source": [
    "# Define tools"
   ]
  },
  {
   "cell_type": "code",
   "execution_count": 4,
   "id": "79dcdbc3-b039-41aa-8f71-1940956dcb81",
   "metadata": {},
   "outputs": [],
   "source": [
    "from langchain_core.tools import tool\n",
    "from typing import Annotated\n",
    "from langchain_experimental.utilities import PythonREPL\n",
    "from langchain_community.tools.tavily_search import TavilySearchResults\n",
    "\n",
    "tavily_tool = TavilySearchResults(max_results=5)\n",
    "\n",
    "# Warning: This executes code locally, which can be unsafe when not sandboxed\n",
    "\n",
    "repl = PythonREPL()\n",
    "\n",
    "@tool\n",
    "def python_repl(\n",
    "    code: Annotated[str, \"The python code to execute to generate your chart\"]\n",
    "):\n",
    "    \"\"\"\n",
    "    Use this to execute python code. If you want to see the output of a value, you\n",
    "    should print it out with `print(....)`. This is visible to the user\n",
    "    \"\"\"\n",
    "    try:\n",
    "        result = repl.run(code)\n",
    "    except BaseException as e:\n",
    "        return f\"Failed to execute. Error: {repr(e)}\"\n",
    "\n",
    "    return f\"Succesfully executed:\\n```python\\n{code}\\n```\\nStdout: {result}\"\n",
    "        \n",
    "    "
   ]
  },
  {
   "cell_type": "markdown",
   "id": "b76c30e4-e2ff-4496-a9d5-52d7b38f0c62",
   "metadata": {},
   "source": [
    "# Define state"
   ]
  },
  {
   "cell_type": "code",
   "execution_count": 5,
   "id": "0ad3af2d-214b-46b7-888d-1670c6a77631",
   "metadata": {},
   "outputs": [],
   "source": [
    "from typing import Annotated, Sequence, TypedDict\n",
    "import operator\n",
    "from langchain_core.messages.base import BaseMessage\n",
    "\n",
    "class AgentState(TypedDict):\n",
    "    messages: Annotated[Sequence[BaseMessage], operator.add]\n",
    "    sender: str\n",
    "    "
   ]
  },
  {
   "cell_type": "markdown",
   "id": "d474a237-6591-473d-a132-c374e7f111b9",
   "metadata": {},
   "source": [
    "# Define agent nodes"
   ]
  },
  {
   "cell_type": "code",
   "execution_count": 6,
   "id": "18d42476-427f-479a-88da-a57536151fb8",
   "metadata": {},
   "outputs": [],
   "source": [
    "import functools\n",
    "from langchain_core.messages import FunctionMessage, HumanMessage\n",
    "from langchain_openai import ChatOpenAI\n",
    "\n",
    "def agent_node(state, agent, name):\n",
    "\n",
    "    result = agent.invoke(state)\n",
    "    # We convert the agent output into a format that is suitable to append to the global state\n",
    "    if isinstance(result, FunctionMessage):\n",
    "        pass\n",
    "    else:\n",
    "        result = HumanMessage(**result.dict(exclude={\"type\", \"name\"}), name=name)\n",
    "    return {\n",
    "        \"messages\": [result],\n",
    "        \"sender\": name\n",
    "    }\n",
    "\n",
    "llm = ChatOpenAI(model=\"gpt-4-1106-preview\")\n",
    "\n",
    "# Research agent and node\n",
    "research_agent = create_agent(\n",
    "    llm,\n",
    "    [tavily_tool],\n",
    "    system_message=\"You should provide accurate data for the chart generator to use.\"\n",
    ")\n",
    "research_node = functools.partial(agent_node, agent=research_agent, name=\"researcher\")\n",
    "\n",
    "# Chart generator\n",
    "chart_agent = create_agent(\n",
    "    llm,\n",
    "    [python_repl],\n",
    "    system_message=\"Any charts you display will be visible by the user.\"\n",
    ")\n",
    "chart_node = functools.partial(agent_node, agent=chart_agent, name=\"chart_generator\")\n"
   ]
  },
  {
   "cell_type": "markdown",
   "id": "a198ef2a-1c2e-4384-bcf1-4a0bd2c2c711",
   "metadata": {},
   "source": [
    "# Define tool node\n",
    "\n",
    "We now define a node to run the tools"
   ]
  },
  {
   "cell_type": "code",
   "execution_count": 7,
   "id": "99807148-2bad-4e4a-9a9c-9a5765f7155b",
   "metadata": {},
   "outputs": [],
   "source": [
    "from langgraph.prebuilt.tool_executor import ToolExecutor, ToolInvocation\n",
    "import json\n",
    "\n",
    "tools = [tavily_tool, python_repl]\n",
    "tool_executor = ToolExecutor(tools)\n",
    "\n",
    "def tool_node(state):\n",
    "    \"\"\"This runs tools in the graph\n",
    "    It takes in an agent action and calls that tool and returns the result\n",
    "    \"\"\"\n",
    "    messages = state[\"messages\"]\n",
    "    last_message = messages[-1]\n",
    "    tool_input = json.loads(\n",
    "        last_message.additional_kwargs[\"function_call\"][\"arguments\"]\n",
    "    )\n",
    "\n",
    "    # We can pass single-arg inputs by value\n",
    "    if len(tool_input) == 1 and \"__arg1\" in tool_input:\n",
    "        tool_input = next(iter(tool_input.values()))\n",
    "\n",
    "    tool_name = last_message.additional_kwargs[\"function_call\"][\"name\"]\n",
    "    action = ToolInvocation(tool=tool_name, tool_input=tool_input)\n",
    "\n",
    "    # Invoke the tool executor\n",
    "    response = tool_executor.invoke(action)\n",
    "    # We use the response to create a FunctionMessage \n",
    "    function_message = FunctionMessage(\n",
    "        content=f\"{tool_name} response: {str(response)}\", name=action.tool\n",
    "    )\n",
    "    return {\"messages\": [function_message]}"
   ]
  },
  {
   "cell_type": "markdown",
   "id": "00a001a4-e104-4763-937c-5425a405a717",
   "metadata": {},
   "source": [
    "# Define Edge Logic"
   ]
  },
  {
   "cell_type": "code",
   "execution_count": 8,
   "id": "0902d52d-c0db-4be5-819b-d4a8b8b3e85d",
   "metadata": {},
   "outputs": [],
   "source": [
    "# Either agent can decide to end\n",
    "def router(state):\n",
    "    messages = state[\"messages\"]\n",
    "    last_message = messages[-1]\n",
    "\n",
    "    if \"function_call\" in last_message.additional_kwargs:\n",
    "        return \"call_tool\"\n",
    "    if \"FINAL ANSWER\" in last_message.content:\n",
    "        return \"end\"\n",
    "    return \"continue\""
   ]
  },
  {
   "cell_type": "markdown",
   "id": "fabbeb57-ae49-421d-85c4-e847cee75d4b",
   "metadata": {},
   "source": [
    "# Define Graph"
   ]
  },
  {
   "cell_type": "code",
   "execution_count": 9,
   "id": "4d5bf35b-1e41-48fa-bceb-01b1da774d6b",
   "metadata": {},
   "outputs": [],
   "source": [
    "from langgraph.graph import END, StateGraph\n",
    "\n",
    "workflow = StateGraph(AgentState)\n",
    "\n",
    "# Create the nodes\n",
    "workflow.add_node(\"researcher\", research_node)\n",
    "workflow.add_node(\"chart_generator\", chart_node)\n",
    "workflow.add_node(\"call_tool\", tool_node)\n",
    "\n",
    "\n",
    "workflow.add_conditional_edges(\n",
    "    \"researcher\",\n",
    "    router,\n",
    "    {\n",
    "        \"continue\": \"chart_generator\",\n",
    "        \"call_tool\": \"call_tool\",\n",
    "        \"end\": END,\n",
    "    }\n",
    ")\n",
    "\n",
    "workflow.add_conditional_edges(\n",
    "    \"chart_generator\",\n",
    "    router,\n",
    "    {\n",
    "        \"continue\": \"researcher\",\n",
    "        \"call_tool\": \"call_tool\",\n",
    "        \"end\": END,\n",
    "    }\n",
    ")\n",
    "\n",
    "workflow.add_conditional_edges(\n",
    "    \"call_tool\",\n",
    "    lambda x: x[\"sender\"],\n",
    "    {\n",
    "        \"researcher\": \"researcher\",\n",
    "        \"chart_generator\": \"chart_generator\",\n",
    "    }\n",
    ")\n",
    "\n",
    "workflow.set_entry_point(\"researcher\")\n",
    "graph = workflow.compile()"
   ]
  },
  {
   "cell_type": "markdown",
   "id": "d37b96c3-14f0-43ec-855d-b6264f377b9e",
   "metadata": {},
   "source": [
    "# Invoke"
   ]
  },
  {
   "cell_type": "code",
   "execution_count": 10,
   "id": "9aed6b4e-d046-475f-b75c-6a10999e4900",
   "metadata": {},
   "outputs": [
    {
     "name": "stdout",
     "output_type": "stream",
     "text": [
      "{'researcher': {'messages': [HumanMessage(content='', additional_kwargs={'function_call': {'arguments': '{\"query\":\"UK GDP over the past 5 years\"}', 'name': 'tavily_search_results_json'}}, response_metadata={'token_usage': {'completion_tokens': 25, 'prompt_tokens': 244, 'total_tokens': 269}, 'model_name': 'gpt-4-1106-preview', 'system_fingerprint': 'fp_94f711dcf6', 'finish_reason': 'function_call', 'logprobs': None}, name='researcher', id='run-a22c63ea-eb2d-459f-b974-7a943c481a8f-0', invalid_tool_calls=[], tool_calls=[])], 'sender': 'researcher'}}\n",
      "-----------------------------------\n",
      "{'call_tool': {'messages': [FunctionMessage(content='tavily_search_results_json response: [{\\'url\\': \\'https://www.macrotrends.net/global-metrics/countries/GBR/united-kingdom/gdp-growth-rate\\', \\'content\\': \\'U.K. gdp growth rate for 2021 was 7.60%, a 18.63% increase from 2020. U.K. gdp growth rate for 2020 was -11.03%, a 12.64% decline from 2019. U.K. gdp growth rate for 2019 was 1.60%, a 0.1% decline from 2018. Annual percentage growth rate of GDP at market prices based on constant local currency. Aggregates are based on constant 2010 U.S. dollars.\\'}, {\\'url\\': \\'https://www.macrotrends.net/global-metrics/countries/GBR/united-kingdom/gdp-gross-domestic-product\\', \\'content\\': \"U.K. gdp for 2021 was $3,122.48B, a 15.45% increase from 2020. U.K. gdp for 2020 was $2,704.61B, a 5.34% decline from 2019. U.K. gdp for 2019 was $2,857.06B, a 0.73% decline from 2018. GDP at purchaser\\'s prices is the sum of gross value added by all resident producers in the economy plus any product taxes and minus any subsidies not included in ...\"}, {\\'url\\': \\'https://www.statista.com/topics/3795/gdp-of-the-uk/\\', \\'content\\': \\'Monthly growth of gross domestic product in the United Kingdom from January 2019 to November 2023\\\\nContribution to GDP growth in the UK 2023, by sector\\\\nContribution to gross domestic product growth in the United Kingdom in January 2023, by sector\\\\nGDP growth rate in the UK 1999-2021, by country\\\\nAnnual growth rates of gross domestic product in the United Kingdom from 1999 to 2021, by country\\\\nGDP growth rate in the UK 2021, by region\\\\nAnnual growth rates of gross domestic product in the United Kingdom in 2021, by region\\\\nGDP growth of Scotland 2021, by local area\\\\nAnnual growth rates of gross domestic product in Scotland in 2021, by local (ITL 3) area\\\\nGDP growth of Wales 2021, by local area\\\\nAnnual growth rates of gross domestic product in Wales in 2021, by local (ITL 3) area\\\\nGDP growth of Northern Ireland 2021, by local area\\\\nAnnual growth rates of gross domestic product in Northern Ireland in 2021, by local (ITL 3) area\\\\nGDP per capita\\\\nGDP per capita\\\\nGDP per capita in the UK 1955-2022\\\\nGross domestic product per capita in the United Kingdom from 1955 to 2022 (in GBP)\\\\nAnnual GDP per capita growth in the UK 1956-2022\\\\nAnnual GDP per capita growth in the United Kingdom from 1956 to 2022\\\\nQuarterly GDP per capita in the UK 2019-2023\\\\nQuarterly GDP per capita in the United Kingdom from 1st quarter 2019 to 3rd quarter 2023 (in GBP)\\\\nQuarterly GDP per capita growth in the UK 2019-2023\\\\nQuarterly GDP per capita growth in the United Kingdom from 1st quarter 2019 to 3rd quarter 2023 (in GBP)\\\\nGDP per capita of the UK 1999-2021, by country\\\\nGross domestic product per capita of the United Kingdom from 1999 to 2021, by country (in GBP)\\\\nGDP per capita of the UK 2021, by region\\\\nGross domestic product per capita of the United Kingdom in 2021, by region (in GBP)\\\\nGlobal Comparisons\\\\nGlobal Comparisons\\\\nCountries with the largest gross domestic product (GDP) 2022\\\\n Monthly GDP of the UK 2019-2023\\\\nMonthly index of gross domestic product in the United Kingdom from January 2019 to November 2023 (2019=100)\\\\nGVA of the UK 2022, by sector\\\\nGross value added of the United Kingdom in 2022, by industry sector (in million GBP)\\\\nGDP of the UK 2021, by country\\\\nGross domestic product of the United Kingdom in 2021, by country (in million GBP)\\\\nGDP of the UK 2021, by region\\\\nGross domestic product of the United Kingdom in 2021, by region (in million GBP)\\\\nGDP of Scotland 2021, by local area\\\\nGross domestic product of Scotland in 2021, by local (ITL 3) area (in million GBP)\\\\nGDP of Wales 2021, by local area\\\\nGross domestic product of Wales in 2021, by local (ITL 3) area (in million GBP)\\\\nGDP of Northern Ireland 2021, by local area\\\\nGross domestic product of Northern Ireland in 2021, by local (ITL 3) area (in million GBP)\\\\nGDP growth\\\\nGDP growth\\\\nGDP growth forecast for the UK 2000-2028\\\\nForecasted annual growth of gross domestic product in the United Kingdom from 2000 to 2028\\\\nAnnual GDP growth in the UK 1949-2022\\\\nAnnual growth of gross domestic product in the United Kingdom from 1949 to 2022\\\\nQuarterly GDP growth of the UK 2019-2023\\\\nQuarterly growth of gross domestic product in the United Kingdom from 1st quarter 2019 to 3rd quarter 2023\\\\nMonthly GDP growth of the UK 2019-2023\\\\n Transforming data into design:\\\\nStatista Content & Design\\\\nStrategy and business building for the data-driven economy:\\\\nUK GDP - Statistics & Facts\\\\nUK economy expected to shrink in 2023\\\\nCharacteristics of UK GDP\\\\nKey insights\\\\nDetailed statistics\\\\nGDP of the UK 1948-2022\\\\nDetailed statistics\\\\nAnnual GDP growth in the UK 1949-2022\\\\nDetailed statistics\\\\nGDP per capita in the UK 1955-2022\\\\nEditor’s Picks\\\\nCurrent statistics on this topic\\\\nCurrent statistics on this topic\\\\nKey Economic Indicators\\\\nMonthly GDP growth of the UK 2019-2023\\\\nKey Economic Indicators\\\\nMonthly GDP of the UK 2019-2023\\\\nKey Economic Indicators\\\\nContribution to GDP growth in the UK 2023, by sector\\\\nRelated topics\\\\nRecommended\\\\nRecommended statistics\\\\nGDP\\\\nGDP\\\\nGDP of the UK 1948-2022\\\\nGross domestic product of the United Kingdom from 1948 to 2022 (in million GBP)\\\\nQuarterly GDP of the UK 2019-2023\\\\nQuarterly gross domestic product in the United Kingdom from 1st quarter 2019 to 3rd quarter 2023 (in million GBP)\\\\n The 20 countries with the largest gross domestic product (GDP) in 2022 (in billion U.S. dollars)\\\\nGDP of European countries in 2022\\\\nGross domestic product at current market prices of selected European countries in 2022 (in million euros)\\\\nReal GDP growth rates in Europe 2023\\\\nAnnual real gross domestic product (GDP) growth rate in European countries in 2023\\\\nGross domestic product (GDP) of Europe\\\\\\'s largest economies 1980-2028\\\\nGross domestic product (GDP) at current prices of Europe\\\\\\'s largest economies from 1980 to 2028 (in billion U.S dollars)\\\\nUnited Kingdom\\\\\\'s share of global gross domestic product (GDP) 2028\\\\nUnited Kingdom (UK): Share of global gross domestic product (GDP) adjusted for Purchasing Power Parity (PPP) from 2018 to 2028\\\\nRelated topics\\\\nRecommended\\\\nReport on the topic\\\\nKey figures\\\\nThe most important key figures provide you with a compact summary of the topic of \"UK GDP\" and take you straight to the corresponding statistics.\\\\n Industry Overview\\\\nDigital & Trend reports\\\\nOverview and forecasts on trending topics\\\\nIndustry & Market reports\\\\nIndustry and market insights and forecasts\\\\nCompanies & Products reports\\\\nKey figures and rankings about companies and products\\\\nConsumer & Brand reports\\\\nConsumer and brand insights and preferences in various industries\\\\nPolitics & Society reports\\\\nDetailed information about political and social topics\\\\nCountry & Region reports\\\\nAll key figures about countries and regions\\\\nMarket forecast and expert KPIs for 1000+ markets in 190+ countries & territories\\\\nInsights on consumer attitudes and behavior worldwide\\\\nBusiness information on 100m+ public and private companies\\\\nExplore Company Insights\\\\nDetailed information for 39,000+ online stores and marketplaces\\\\nDirectly accessible data for 170 industries from 150+ countries\\\\nand over 1\\\\xa0Mio. facts.\\\\n\\'}, {\\'url\\': \\'https://www.ons.gov.uk/economy/grossdomesticproductgdp\\', \\'content\\': \\'Quarter on Quarter growth: CVM SA %\\\\nChained Volume Measures (CVM)\\\\nGross Domestic Product: q-on-q4 growth rate CVM SA %\\\\nChained Volume Measures (CVM)\\\\nGross Domestic Product at market prices: Current price: Seasonally adjusted £m\\\\nCurrent Prices (CP)\\\\nGross Domestic Product: quarter on quarter growth rate: CP SA %\\\\nCurrent Prices (CP)\\\\nGross Domestic Product: q-on-q4 growth quarter growth: CP SA %\\\\nCurrent Prices (CP)\\\\nDatasets related to Gross Domestic Product (GDP)\\\\n A roundup of the latest data and trends on the economy, business and jobs\\\\nTime series related to Gross Domestic Product (GDP)\\\\nGross Domestic Product: chained volume measures: Seasonally adjusted £m\\\\nChained Volume Measures (CVM)\\\\nGross Domestic Product: Hide\\\\nData and analysis from Census 2021\\\\nGross Domestic Product (GDP)\\\\nGross domestic product (GDP) estimates as the main measure of UK economic growth based on the value of goods and services produced during a given period. Contains current and constant price data on the value of goods and services to indicate the economic performance of the UK.\\\\nEstimates of short-term indicators of investment in non-financial assets; business investment and asset and sector breakdowns of total gross fixed capital formation.\\\\n Monthly gross domestic product by gross value added\\\\nThe gross value added (GVA) tables showing the monthly and annual growths and indices as published within the monthly gross domestic product (GDP) statistical bulletin.\\\\n\\'}, {\\'url\\': \\'https://www.ons.gov.uk/economy/grossdomesticproductgdp/timeseries/ihyp/pn2\\', \\'content\\': \\'Preliminary estimate of GDP time series (PGDP), released on 27 April 2018\\\\nPublications that use this data\\\\nContact details for this data\\\\nFooter links\\\\nHelp\\\\nAbout ONS\\\\nConnect with us\\\\nAll content is available under the Open Government Licence v3.0, except where otherwise stated Year on Year growth: CVM SA %\\\\nDownload full time series as:\\\\nDownload filtered time series as:\\\\nTable\\\\nNotes\\\\nFollowing a quality review it has been identified that the methodology used to estimate elements of purchased software within gross fixed capital formation (GFCF) has led to some double counting from 1997 onwards. GDP quarterly national accounts time series (QNA), released on 22 December 2023\\\\nIHYP: UK Economic Accounts time series (UKEA), released on 22 December 2023\\\\nIHYP: GDP first quarterly estimate time series\\\\n(PN2), released on 10 November 2023\\\\nIHYP: Year on Year growth: CVM SA %\\\\nSource dataset: GDP first quarterly estimate time series (PN2)\\\\nContact: Niamh McAuley\\\\nRelease date: 10 November 2023\\\\nView previous versions\\\\n %\\\\nFilters\\\\nCustom time period\\\\nChart\\\\nDownload this time seriesGross Domestic Product:\\'}]', name='tavily_search_results_json')]}}\n",
      "-----------------------------------\n",
      "{'researcher': {'messages': [HumanMessage(content='Based on the search results, we can extract the yearly GDP values for the United Kingdom for the past five years. Here are the figures:\\n\\n- **2021**: $3,122.48 billion\\n- **2020**: $2,704.61 billion\\n- **2019**: $2,857.06 billion\\n- **2018**: (Not directly provided in the search results, calculation needed)\\n- **2017**: (Not directly provided in the search results, calculation needed)\\n\\nTo calculate the GDP for 2018 and 2017, we need to apply the growth rates to the known GDP values. However, the search results do not provide explicit values for 2018 and 2017, and further research is needed to find these values.\\n\\nI will perform additional searches to find the GDP values for 2018 and 2017.', additional_kwargs={'function_call': {'arguments': '{\"query\":\"United Kingdom GDP for 2017 and 2018\"}', 'name': 'tavily_search_results_json'}}, response_metadata={'token_usage': {'completion_tokens': 204, 'prompt_tokens': 2831, 'total_tokens': 3035}, 'model_name': 'gpt-4-1106-preview', 'system_fingerprint': 'fp_94f711dcf6', 'finish_reason': 'function_call', 'logprobs': None}, name='researcher', id='run-9aed9846-c5b0-497e-9c32-3163e84b8fa2-0', invalid_tool_calls=[], tool_calls=[])], 'sender': 'researcher'}}\n",
      "-----------------------------------\n",
      "{'call_tool': {'messages': [FunctionMessage(content='tavily_search_results_json response: [{\\'url\\': \\'https://www.macrotrends.net/global-metrics/countries/GBR/united-kingdom/gdp-gross-domestic-product\\', \\'content\\': \"U.K. gdp for 2021 was $3,122.48B, a 15.45% increase from 2020. U.K. gdp for 2020 was $2,704.61B, a 5.34% decline from 2019. U.K. gdp for 2019 was $2,857.06B, a 0.73% decline from 2018. GDP at purchaser\\'s prices is the sum of gross value added by all resident producers in the economy plus any product taxes and minus any subsidies not included in ...\"}, {\\'url\\': \\'https://www.ons.gov.uk/economy/grossdomesticproductgdp\\', \\'content\\': \\'Quarter on Quarter growth: CVM SA %\\\\nChained Volume Measures (CVM)\\\\nGross Domestic Product: q-on-q4 growth rate CVM SA %\\\\nChained Volume Measures (CVM)\\\\nGross Domestic Product at market prices: Current price: Seasonally adjusted £m\\\\nCurrent Prices (CP)\\\\nGross Domestic Product: quarter on quarter growth rate: CP SA %\\\\nCurrent Prices (CP)\\\\nGross Domestic Product: q-on-q4 growth quarter growth: CP SA %\\\\nCurrent Prices (CP)\\\\nDatasets related to Gross Domestic Product (GDP)\\\\n A roundup of the latest data and trends on the economy, business and jobs\\\\nTime series related to Gross Domestic Product (GDP)\\\\nGross Domestic Product: chained volume measures: Seasonally adjusted £m\\\\nChained Volume Measures (CVM)\\\\nGross Domestic Product: Hide\\\\nData and analysis from Census 2021\\\\nGross Domestic Product (GDP)\\\\nGross domestic product (GDP) estimates as the main measure of UK economic growth based on the value of goods and services produced during a given period. Contains current and constant price data on the value of goods and services to indicate the economic performance of the UK.\\\\nEstimates of short-term indicators of investment in non-financial assets; business investment and asset and sector breakdowns of total gross fixed capital formation.\\\\n Monthly gross domestic product by gross value added\\\\nThe gross value added (GVA) tables showing the monthly and annual growths and indices as published within the monthly gross domestic product (GDP) statistical bulletin.\\\\n\\'}, {\\'url\\': \\'https://countryeconomy.com/gdp/uk?year=2018\\', \\'content\\': \"Main navigation\\\\nTop menu\\\\nUnited Kingdom (UK) GDP - Gross Domestic Product\\\\nGDP United Kingdom 2018\\\\nGDP improves in United Kingdom\\\\nGross Domestic Product of United Kingdom grew 1.3% in 2018 compared to last year. You can see GDP in other countries in GDP and see all the economic information about United Kingdom in\\\\nUnited Kingdom\\'s economy.\\\\n#COVID-19: 01/07/2024\\\\nCompare countries\\\\nLatest published data\\\\nLinks Your Interests\\\\nCountry Data\\\\nSecondary menu If we order the countries according to their GDP per capita, United Kingdom is well positioned in terms of the standard of living of its population, coming 23th out of\\\\nthe 196 countries whose GDP we publish.\\\\n To view the evolution of the GDP per capita, it is interesting to look back a few years and compare these data with those of 2008 when the GDP per capita in United Kingdom was €32,280$47,918.\\\\n The GDP figure in 2018 was €2,420,897$2,881,850 million, leaving United Kingdom placed 5th in the ranking of GDP of the 196 countries that we publish.\"}, {\\'url\\': \\'https://www.statista.com/topics/3795/gdp-of-the-uk/\\', \\'content\\': \\'Monthly growth of gross domestic product in the United Kingdom from January 2019 to November 2023\\\\nContribution to GDP growth in the UK 2023, by sector\\\\nContribution to gross domestic product growth in the United Kingdom in January 2023, by sector\\\\nGDP growth rate in the UK 1999-2021, by country\\\\nAnnual growth rates of gross domestic product in the United Kingdom from 1999 to 2021, by country\\\\nGDP growth rate in the UK 2021, by region\\\\nAnnual growth rates of gross domestic product in the United Kingdom in 2021, by region\\\\nGDP growth of Scotland 2021, by local area\\\\nAnnual growth rates of gross domestic product in Scotland in 2021, by local (ITL 3) area\\\\nGDP growth of Wales 2021, by local area\\\\nAnnual growth rates of gross domestic product in Wales in 2021, by local (ITL 3) area\\\\nGDP growth of Northern Ireland 2021, by local area\\\\nAnnual growth rates of gross domestic product in Northern Ireland in 2021, by local (ITL 3) area\\\\nGDP per capita\\\\nGDP per capita\\\\nGDP per capita in the UK 1955-2022\\\\nGross domestic product per capita in the United Kingdom from 1955 to 2022 (in GBP)\\\\nAnnual GDP per capita growth in the UK 1956-2022\\\\nAnnual GDP per capita growth in the United Kingdom from 1956 to 2022\\\\nQuarterly GDP per capita in the UK 2019-2023\\\\nQuarterly GDP per capita in the United Kingdom from 1st quarter 2019 to 3rd quarter 2023 (in GBP)\\\\nQuarterly GDP per capita growth in the UK 2019-2023\\\\nQuarterly GDP per capita growth in the United Kingdom from 1st quarter 2019 to 3rd quarter 2023 (in GBP)\\\\nGDP per capita of the UK 1999-2021, by country\\\\nGross domestic product per capita of the United Kingdom from 1999 to 2021, by country (in GBP)\\\\nGDP per capita of the UK 2021, by region\\\\nGross domestic product per capita of the United Kingdom in 2021, by region (in GBP)\\\\nGlobal Comparisons\\\\nGlobal Comparisons\\\\nCountries with the largest gross domestic product (GDP) 2022\\\\n Monthly GDP of the UK 2019-2023\\\\nMonthly index of gross domestic product in the United Kingdom from January 2019 to November 2023 (2019=100)\\\\nGVA of the UK 2022, by sector\\\\nGross value added of the United Kingdom in 2022, by industry sector (in million GBP)\\\\nGDP of the UK 2021, by country\\\\nGross domestic product of the United Kingdom in 2021, by country (in million GBP)\\\\nGDP of the UK 2021, by region\\\\nGross domestic product of the United Kingdom in 2021, by region (in million GBP)\\\\nGDP of Scotland 2021, by local area\\\\nGross domestic product of Scotland in 2021, by local (ITL 3) area (in million GBP)\\\\nGDP of Wales 2021, by local area\\\\nGross domestic product of Wales in 2021, by local (ITL 3) area (in million GBP)\\\\nGDP of Northern Ireland 2021, by local area\\\\nGross domestic product of Northern Ireland in 2021, by local (ITL 3) area (in million GBP)\\\\nGDP growth\\\\nGDP growth\\\\nGDP growth forecast for the UK 2000-2028\\\\nForecasted annual growth of gross domestic product in the United Kingdom from 2000 to 2028\\\\nAnnual GDP growth in the UK 1949-2022\\\\nAnnual growth of gross domestic product in the United Kingdom from 1949 to 2022\\\\nQuarterly GDP growth of the UK 2019-2023\\\\nQuarterly growth of gross domestic product in the United Kingdom from 1st quarter 2019 to 3rd quarter 2023\\\\nMonthly GDP growth of the UK 2019-2023\\\\n Transforming data into design:\\\\nStatista Content & Design\\\\nStrategy and business building for the data-driven economy:\\\\nUK GDP - Statistics & Facts\\\\nUK economy expected to shrink in 2023\\\\nCharacteristics of UK GDP\\\\nKey insights\\\\nDetailed statistics\\\\nGDP of the UK 1948-2022\\\\nDetailed statistics\\\\nAnnual GDP growth in the UK 1949-2022\\\\nDetailed statistics\\\\nGDP per capita in the UK 1955-2022\\\\nEditor’s Picks\\\\nCurrent statistics on this topic\\\\nCurrent statistics on this topic\\\\nKey Economic Indicators\\\\nMonthly GDP growth of the UK 2019-2023\\\\nKey Economic Indicators\\\\nMonthly GDP of the UK 2019-2023\\\\nKey Economic Indicators\\\\nContribution to GDP growth in the UK 2023, by sector\\\\nRelated topics\\\\nRecommended\\\\nRecommended statistics\\\\nGDP\\\\nGDP\\\\nGDP of the UK 1948-2022\\\\nGross domestic product of the United Kingdom from 1948 to 2022 (in million GBP)\\\\nQuarterly GDP of the UK 2019-2023\\\\nQuarterly gross domestic product in the United Kingdom from 1st quarter 2019 to 3rd quarter 2023 (in million GBP)\\\\n The 20 countries with the largest gross domestic product (GDP) in 2022 (in billion U.S. dollars)\\\\nGDP of European countries in 2022\\\\nGross domestic product at current market prices of selected European countries in 2022 (in million euros)\\\\nReal GDP growth rates in Europe 2023\\\\nAnnual real gross domestic product (GDP) growth rate in European countries in 2023\\\\nGross domestic product (GDP) of Europe\\\\\\'s largest economies 1980-2028\\\\nGross domestic product (GDP) at current prices of Europe\\\\\\'s largest economies from 1980 to 2028 (in billion U.S dollars)\\\\nUnited Kingdom\\\\\\'s share of global gross domestic product (GDP) 2028\\\\nUnited Kingdom (UK): Share of global gross domestic product (GDP) adjusted for Purchasing Power Parity (PPP) from 2018 to 2028\\\\nRelated topics\\\\nRecommended\\\\nReport on the topic\\\\nKey figures\\\\nThe most important key figures provide you with a compact summary of the topic of \"UK GDP\" and take you straight to the corresponding statistics.\\\\n Industry Overview\\\\nDigital & Trend reports\\\\nOverview and forecasts on trending topics\\\\nIndustry & Market reports\\\\nIndustry and market insights and forecasts\\\\nCompanies & Products reports\\\\nKey figures and rankings about companies and products\\\\nConsumer & Brand reports\\\\nConsumer and brand insights and preferences in various industries\\\\nPolitics & Society reports\\\\nDetailed information about political and social topics\\\\nCountry & Region reports\\\\nAll key figures about countries and regions\\\\nMarket forecast and expert KPIs for 1000+ markets in 190+ countries & territories\\\\nInsights on consumer attitudes and behavior worldwide\\\\nBusiness information on 100m+ public and private companies\\\\nExplore Company Insights\\\\nDetailed information for 39,000+ online stores and marketplaces\\\\nDirectly accessible data for 170 industries from 150+ countries\\\\nand over 1\\\\xa0Mio. facts.\\\\n\\'}, {\\'url\\': \\'https://data.worldbank.org/indicator/NY.GDP.MKTP.CD?locaew=null&locations=GB\\', \\'content\\': \\'GDP (current US$) - United Kingdom from The World Bank: Data. Free and open access to global development data. Data. ... GDP, PPP (constant 2017 international $) GDP (current LCU) GDP, PPP (current international $) GDP per capita growth (annual %) Download. CSV XML EXCEL. DataBank. Explore Our DataBank. WDI Tables. Thematic data tables from WDI.\\'}]', name='tavily_search_results_json')]}}\n",
      "-----------------------------------\n",
      "{'researcher': {'messages': [HumanMessage(content='Based on the search results, we can now complete the GDP values for the United Kingdom for the past five years:\\n\\n- **2021**: $3,122.48B\\n- **2020**: $2,704.61B\\n- **2019**: $2,857.06B\\n- **2018**: $2,881.85B (from countryeconomy.com)\\n- **2017**: (We still need to find the GDP value for 2017)\\n\\nWe have all the data we need except for the 2017 GDP value. I will perform one more search to try to find the GDP value for the UK in 2017.', additional_kwargs={'function_call': {'arguments': '{\"query\":\"UK GDP 2017\"}', 'name': 'tavily_search_results_json'}}, response_metadata={'token_usage': {'completion_tokens': 160, 'prompt_tokens': 5533, 'total_tokens': 5693}, 'model_name': 'gpt-4-1106-preview', 'system_fingerprint': 'fp_fb84c680ea', 'finish_reason': 'function_call', 'logprobs': None}, name='researcher', id='run-4ddd609b-0992-43cb-8877-f6ec7ee9316d-0', invalid_tool_calls=[], tool_calls=[])], 'sender': 'researcher'}}\n",
      "-----------------------------------\n",
      "{'call_tool': {'messages': [FunctionMessage(content='tavily_search_results_json response: [{\\'url\\': \\'https://countryeconomy.com/gdp/uk?year=2017\\', \\'content\\': \"Main navigation\\\\nTop menu\\\\nUnited Kingdom (UK) GDP - Gross Domestic Product\\\\nGDP United Kingdom 2017\\\\nGDP improves in United Kingdom\\\\nGross Domestic Product of United Kingdom grew 1.7% in 2017 compared to last year You can see GDP in other countries in GDP and see all the economic information about United Kingdom in\\\\nUnited Kingdom\\'s economy.\\\\n#COVID-19: 01/07/2024\\\\nCompare countries\\\\nLatest published data\\\\nLinks Your Interests\\\\nCountry Data\\\\nSecondary menu If we order the countries according to their GDP per capita, United Kingdom is well positioned in terms of the standard of living of its population, coming 25th out of\\\\nthe 196 countries whose GDP we publish.\\\\n To view the evolution of the GDP per capita, it is interesting to look back a few years and compare these data with those of 2007 when the GDP per capita in United Kingdom was €36,840$50,458.\\\\n The GDP figure in 2017 was €2,359,790$2,685,640 million, leaving United Kingdom placed 5th in the ranking of GDP of the 196 countries that we publish.\"}, {\\'url\\': \\'https://data.worldbank.org/indicator/NY.GDP.MKTP.CD?locaew=null&locations=GB\\', \\'content\\': \\'GDP (current US$) - United Kingdom from The World Bank: Data. Free and open access to global development data. Data. ... GDP, PPP (constant 2017 international $) GDP (current LCU) GDP, PPP (current international $) GDP per capita growth (annual %) Download. CSV XML EXCEL. DataBank. Explore Our DataBank. WDI Tables. Thematic data tables from WDI.\\'}, {\\'url\\': \\'https://www.macrotrends.net/global-metrics/countries/GBR/united-kingdom/gdp-gross-domestic-product\\', \\'content\\': \"U.K. gdp for 2021 was $3,122.48B, a 15.45% increase from 2020. U.K. gdp for 2020 was $2,704.61B, a 5.34% decline from 2019. U.K. gdp for 2019 was $2,857.06B, a 0.73% decline from 2018. GDP at purchaser\\'s prices is the sum of gross value added by all resident producers in the economy plus any product taxes and minus any subsidies not included in ...\"}, {\\'url\\': \\'https://www.ft.com/content/b4621f0e-e6fa-11e7-8b99-0191e45377ec\\', \\'content\\': \\'The Financial Times looks back on the UK economy in 2017 in numbers. 1.7 per cent. Growth in the UK economy over the year to the third quarter of 2017, in real terms. In 2016 the UK was the joint ...\\'}, {\\'url\\': \\'https://www.ons.gov.uk/economy/grossdomesticproductgdp/bulletins/quarterlynationalaccounts/aprtojun2017\\', \\'content\\': \\'Quality and methodology\\\\nThe Gross domestic product (GDP) Quality and Methodology Information report contains important information on:\\\\nthe strengths and limitations of the data and how it compares with related data\\\\nuses and users of the data\\\\nhow the output was created\\\\nthe quality of the output including the accuracy of the data\\\\nThe national accounts are drawn together using data from many different sources. In addition to this analysis, section 11 of the Revisions to gross domestic product in Blue Book 2016 article updates the metrics used to test revisions performance to answer the question “Is GDP biased?”\\\\nReaching the GDP balance\\\\nThe different data content of the three approaches – the output approach, the expenditure approach and the income approach – dictates the approach taken in balancing quarterly data. Upwards revisions to business investment growth in 2016 and into 2017 relate to a number of improvements including; the introduction of improved source data, which have impacted the transport asset; taking on revised estimates for artistic originals within intellectual property products; and the removal of adjustments in place to address known areas of previous survey misreporting identified by the introduction of the QCAS survey in 2015, affecting other machinery and equipment and other buildings and structures. In Quarter 2 2017:\\\\nagriculture decreased by 0.1%\\\\nproduction decreased by 0.3%\\\\nconstruction decreased by 0.5%\\\\nservices increased by 0.4%\\\\nServices\\\\nThe largest component within the output approach of GDP is the services industries, which drove the growth in the output measure of GDP in Quarter 2 2017. It is not used in the calculation of GDP; the deflators for expenditure components, which are the basis for the implied GDP deflator, are used directly in the compilation of real GDP.\\\\nGDP per head\\\\nGDP per head is calculated by dividing GDP in chained volume measures by the latest population estimates and projections.\\'}]', name='tavily_search_results_json')]}}\n",
      "-----------------------------------\n",
      "{'researcher': {'messages': [HumanMessage(content=\"With the additional search, we have found the GDP value for the United Kingdom for 2017:\\n\\n- **2017**: $2,685.64B (from countryeconomy.com)\\n\\nWe now have the complete data set for the UK's GDP over the past five years:\\n\\n- **2021**: $3,122.48B\\n- **2020**: $2,704.61B\\n- **2019**: $2,857.06B\\n- **2018**: $2,881.85B\\n- **2017**: $2,685.64B\\n\\nThis data can be used to generate a line graph.\", response_metadata={'token_usage': {'completion_tokens': 134, 'prompt_tokens': 6776, 'total_tokens': 6910}, 'model_name': 'gpt-4-1106-preview', 'system_fingerprint': 'fp_94f711dcf6', 'finish_reason': 'stop', 'logprobs': None}, name='researcher', id='run-a92b30c2-5b40-4c21-94d2-3f45f9d34061-0', invalid_tool_calls=[], tool_calls=[])], 'sender': 'researcher'}}\n",
      "-----------------------------------\n"
     ]
    },
    {
     "name": "stderr",
     "output_type": "stream",
     "text": [
      "Python REPL can execute arbitrary code. Use with caution.\n"
     ]
    },
    {
     "name": "stdout",
     "output_type": "stream",
     "text": [
      "{'chart_generator': {'messages': [HumanMessage(content='', additional_kwargs={'function_call': {'arguments': '{\"code\":\"import matplotlib.pyplot as plt\\\\n\\\\n# Years and GDP values\\\\nyears = [2017, 2018, 2019, 2020, 2021]\\\\ngdp_values = [2.68564, 2.88185, 2.85706, 2.70461, 3.12248]  # Trillions of USD\\\\n\\\\n# Create a line graph\\\\nplt.figure(figsize=(10, 5))\\\\nplt.plot(years, gdp_values, marker=\\'o\\')\\\\n\\\\n# Title and labels\\\\nplt.title(\\'UK GDP Over the Past 5 Years\\')\\\\nplt.xlabel(\\'Year\\')\\\\nplt.ylabel(\\'GDP (Trillions of USD)\\')\\\\n\\\\n# Grid and show the plot\\\\nplt.grid(True)\\\\nplt.show()\"}', 'name': 'python_repl'}}, response_metadata={'token_usage': {'completion_tokens': 180, 'prompt_tokens': 6932, 'total_tokens': 7112}, 'model_name': 'gpt-4-1106-preview', 'system_fingerprint': 'fp_fb84c680ea', 'finish_reason': 'function_call', 'logprobs': None}, name='chart_generator', id='run-6b8ae520-308a-447c-9f30-cb33bd459d49-0', invalid_tool_calls=[], tool_calls=[])], 'sender': 'chart_generator'}}\n",
      "-----------------------------------\n"
     ]
    },
    {
     "data": {
      "image/png": "[encoded data removed]",
      "text/plain": [
       "<Figure size 1000x500 with 1 Axes>"
      ]
     },
     "metadata": {},
     "output_type": "display_data"
    },
    {
     "name": "stdout",
     "output_type": "stream",
     "text": [
      "{'call_tool': {'messages': [FunctionMessage(content=\"python_repl response: Succesfully executed:\\n```python\\nimport matplotlib.pyplot as plt\\n\\n# Years and GDP values\\nyears = [2017, 2018, 2019, 2020, 2021]\\ngdp_values = [2.68564, 2.88185, 2.85706, 2.70461, 3.12248]  # Trillions of USD\\n\\n# Create a line graph\\nplt.figure(figsize=(10, 5))\\nplt.plot(years, gdp_values, marker='o')\\n\\n# Title and labels\\nplt.title('UK GDP Over the Past 5 Years')\\nplt.xlabel('Year')\\nplt.ylabel('GDP (Trillions of USD)')\\n\\n# Grid and show the plot\\nplt.grid(True)\\nplt.show()\\n```\\nStdout: \", name='python_repl')]}}\n",
      "-----------------------------------\n",
      "{'chart_generator': {'messages': [HumanMessage(content=\"Here is the line graph representing the UK's GDP over the past five years:\\n\\n![UK GDP Over the Past 5 Years](sandbox:/chart)\", response_metadata={'token_usage': {'completion_tokens': 31, 'prompt_tokens': 7115, 'total_tokens': 7146}, 'model_name': 'gpt-4-1106-preview', 'system_fingerprint': 'fp_fb84c680ea', 'finish_reason': 'stop', 'logprobs': None}, name='chart_generator', id='run-53cf4a61-ea2c-42e6-abb3-4e5d64b359c8-0', invalid_tool_calls=[], tool_calls=[])], 'sender': 'chart_generator'}}\n",
      "-----------------------------------\n",
      "{'researcher': {'messages': [HumanMessage(content=\"FINAL ANSWER\\n\\nHere is the line graph representing the UK's GDP over the past five years:\\n\\n![UK GDP Over the Past 5 Years](sandbox:/chart)\", response_metadata={'token_usage': {'completion_tokens': 35, 'prompt_tokens': 7136, 'total_tokens': 7171}, 'model_name': 'gpt-4-1106-preview', 'system_fingerprint': 'fp_4fa1855c85', 'finish_reason': 'stop', 'logprobs': None}, name='researcher', id='run-3efcd99a-887b-472e-a88e-bdd97e41cb9a-0', invalid_tool_calls=[], tool_calls=[])], 'sender': 'researcher'}}\n",
      "-----------------------------------\n"
     ]
    }
   ],
   "source": [
    "for s in graph.stream(\n",
    "    {\n",
    "        \"messages\": [\n",
    "            HumanMessage(\n",
    "                content=\"Fetch the UK's GDP over the past 5 years,\"\n",
    "                \" then draw a line graph of it.\"\n",
    "                \" Once you code it up, finish.\"\n",
    "            )\n",
    "        ]\n",
    "    },\n",
    "    # Maximum number of steps to take in the graph\n",
    "    {\"recursion_limit\": 150}\n",
    "):\n",
    "    print(s)\n",
    "    print(\"-----------------------------------\")"
   ]
  },
  {
   "cell_type": "code",
   "execution_count": null,
   "id": "b5c0c5f7-325f-4279-9a3b-ba51891975e5",
   "metadata": {},
   "outputs": [],
   "source": []
  }
 ],
 "metadata": {
  "kernelspec": {
   "display_name": "Python 3 (ipykernel)",
   "language": "python",
   "name": "python3"
  },
  "language_info": {
   "codemirror_mode": {
    "name": "ipython",
    "version": 3
   },
   "file_extension": ".py",
   "mimetype": "text/x-python",
   "name": "python",
   "nbconvert_exporter": "python",
   "pygments_lexer": "ipython3",
   "version": "3.11.7"
  }
 },
 "nbformat": 4,
 "nbformat_minor": 5
}
