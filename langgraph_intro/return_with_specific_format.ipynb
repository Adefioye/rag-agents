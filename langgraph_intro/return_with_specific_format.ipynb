{
 "cells": [
  {
   "cell_type": "markdown",
   "id": "118d9022-1653-465c-8b66-ce0098277b47",
   "metadata": {},
   "source": [
    "Typical Process\n",
    "- Set up API keys for search tool, open_api and Langsmith\n",
    "- Set up search tool using tavily search and attach return_direct feature\n",
    "- Set up model, bind tools to model, and bind specific response format to tool\n",
    "- Define the agent state\n",
    "- Define nodes, that is, functions to be invoked on each node\n",
    "- Define graph workflow\n",
    "- Use it"
   ]
  },
  {
   "cell_type": "markdown",
   "id": "9417b759-2280-4e11-bab5-18ea0495b317",
   "metadata": {},
   "source": [
    "## Set up"
   ]
  },
  {
   "cell_type": "code",
   "execution_count": 1,
   "id": "27d6ed40-8b52-434e-af31-dfb7b936dc53",
   "metadata": {},
   "outputs": [
    {
     "name": "stdin",
     "output_type": "stream",
     "text": [
      "OpenAI API Key: ········\n",
      "Tavily API Key: ········\n"
     ]
    }
   ],
   "source": [
    "import os\n",
    "import getpass\n",
    "\n",
    "os.environ[\"OPENAI_API_KEY\"] = getpass.getpass(\"OpenAI API Key:\")\n",
    "os.environ[\"TAVILY_API_KEY\"] = getpass.getpass(\"Tavily API Key:\")"
   ]
  },
  {
   "cell_type": "code",
   "execution_count": 2,
   "id": "5040ebcc-8453-4795-8fd6-e6ac3d94b683",
   "metadata": {},
   "outputs": [
    {
     "name": "stdin",
     "output_type": "stream",
     "text": [
      "LangSmith API Key: ········\n"
     ]
    }
   ],
   "source": [
    "os.environ[\"LANGCHAIN_TRACING_V2\"] = \"true\"\n",
    "os.environ[\"LANGCHAIN_API_KEY\"] = getpass.getpass(\"LangSmith API Key:\")"
   ]
  },
  {
   "cell_type": "markdown",
   "id": "fb8ad0ed-d63a-480d-800e-fc56851c29d8",
   "metadata": {},
   "source": [
    "## Set up tool"
   ]
  },
  {
   "cell_type": "code",
   "execution_count": 48,
   "id": "012160c2-7f9b-4ed3-b3c5-74934f8fcad3",
   "metadata": {},
   "outputs": [],
   "source": [
    "from pydantic import BaseModel, Field\n",
    "\n",
    "class SearchTool(BaseModel):\n",
    "    \"\"\"Look things up online, optionally return directly to user\"\"\"\n",
    "    query: str = Field(description=\"The query passed to the search tool\")\n",
    "    return_direct: bool = Field(\n",
    "        description=\"Whether or not the result of the search tool should be returned directly to the user\",\n",
    "        default=False\n",
    "    )"
   ]
  },
  {
   "cell_type": "code",
   "execution_count": 49,
   "id": "5723c0bc-dfee-49f3-a51e-ab1f406c2541",
   "metadata": {},
   "outputs": [],
   "source": [
    "from langchain_community.tools.tavily_search import TavilySearchResults\n",
    "\n",
    "search_tool = TavilySearchResults(max_results=1, args_schema=SearchTool)\n",
    "tools = [search_tool]"
   ]
  },
  {
   "cell_type": "code",
   "execution_count": 50,
   "id": "1cd572a6-e8af-4429-9d49-cf3aa5e2bef3",
   "metadata": {},
   "outputs": [],
   "source": [
    "from langgraph.prebuilt import ToolExecutor\n",
    "\n",
    "tool_executor = ToolExecutor(tools)"
   ]
  },
  {
   "cell_type": "markdown",
   "id": "70999ec0-57e0-42ec-a6f8-8f8689c0cd3b",
   "metadata": {},
   "source": [
    "## Set up model\n",
    "Bind a structured response"
   ]
  },
  {
   "cell_type": "code",
   "execution_count": 51,
   "id": "1553a6b4-1016-4039-8cc8-02076eb3e3a3",
   "metadata": {},
   "outputs": [],
   "source": [
    "from pydantic import BaseModel, Field\n",
    "\n",
    "class Response(BaseModel):\n",
    "    \"\"\"The information needed from search tool\"\"\"\n",
    "    \n",
    "    temperature: float = Field(description=\"The temperature of weather\")\n",
    "    pressure: float = Field(description=\"The pressure of weather\")\n",
    "    other_notes: str = Field(description=\"Notes on general condition of the weather\")"
   ]
  },
  {
   "cell_type": "code",
   "execution_count": 52,
   "id": "a7901e42-625f-4058-bc2d-d8242f11faa2",
   "metadata": {},
   "outputs": [],
   "source": [
    "from langchain_openai import ChatOpenAI\n",
    "\n",
    "model = ChatOpenAI(temperature=0, streaming=True)"
   ]
  },
  {
   "cell_type": "code",
   "execution_count": 53,
   "id": "ce7b9f5d-be5a-41ab-b237-cee486cc94dd",
   "metadata": {},
   "outputs": [],
   "source": [
    "from  langchain_core.utils.function_calling import convert_to_openai_function\n",
    "from langchain_core.utils.function_calling import convert_to_openai_function\n",
    "\n",
    "functions = [convert_to_openai_function(t) for t in tools]\n",
    "functions.append(convert_to_openai_function(Response))\n",
    "model_with_tools = model.bind_functions(functions)"
   ]
  },
  {
   "cell_type": "markdown",
   "id": "01e30383-e988-428b-8ce5-9caf79b9c836",
   "metadata": {},
   "source": [
    "## Define the agent state"
   ]
  },
  {
   "cell_type": "code",
   "execution_count": 54,
   "id": "87b6185f-2c0e-48f5-8b08-c8cbc2d97480",
   "metadata": {},
   "outputs": [],
   "source": [
    "from typing import TypedDict, Annotated, Sequence\n",
    "import operator\n",
    "from langchain_core.messages import BaseMessage\n",
    "\n",
    "\n",
    "class AgentState(TypedDict):\n",
    "    messages: Annotated[Sequence[BaseMessage], operator.add]"
   ]
  },
  {
   "cell_type": "markdown",
   "id": "9fc40275-9351-49b3-a0e0-efbb61b31a4f",
   "metadata": {},
   "source": [
    "## Define the nodes"
   ]
  },
  {
   "cell_type": "code",
   "execution_count": 55,
   "id": "5d2ad615-bfb3-499e-acfd-f649c1abf7c1",
   "metadata": {},
   "outputs": [],
   "source": [
    "from langgraph.prebuilt import ToolInvocation\n",
    "import json\n",
    "from langchain_core.messages import FunctionMessage"
   ]
  },
  {
   "cell_type": "markdown",
   "id": "3d28eab0-c352-41ad-930e-2755b6cf678a",
   "metadata": {},
   "source": [
    "**MODIFICATION**\n",
    "\n",
    "We will change the `should_continue` function to check what function was called. If the function `Response` was called - that is the function that is NOT a tool, but rather the formatted response, so we should NOT continue in that case."
   ]
  },
  {
   "cell_type": "code",
   "execution_count": 56,
   "id": "44a8fa7d-834a-4be5-9f30-b60cd2aabd1d",
   "metadata": {},
   "outputs": [],
   "source": [
    "def should_continue(state):\n",
    "    messages = state[\"messages\"]\n",
    "    last_message = messages[-1]\n",
    "\n",
    "    if \"function_call\" in last_message.additional_kwargs:\n",
    "        print(\"Name of function call: \", last_message.additional_kwargs[\"function_call\"][\"name\"])\n",
    "    \n",
    "    # If no function call, end the workflow\n",
    "    if \"function_call\" not in last_message.additional_kwargs:\n",
    "        return \"end\"\n",
    "    # If last call is a Response, end the workflow\n",
    "    elif last_message.additional_kwargs[\"function_call\"][\"name\"] == \"Response\":\n",
    "        return \"end\"\n",
    "    else:\n",
    "        # Hence, there is a function call\n",
    "        arguments = json.loads(\n",
    "            last_message.additional_kwargs[\"function_call\"][\"arguments\"]\n",
    "        )\n",
    "        if arguments.get(\"return_direct\"):\n",
    "            return \"final\"\n",
    "        else:\n",
    "            return \"continue\"\n",
    "    "
   ]
  },
  {
   "cell_type": "code",
   "execution_count": 57,
   "id": "2404203d-49ed-4790-a770-f069c82eb44a",
   "metadata": {},
   "outputs": [],
   "source": [
    "# Define the function that calls the model\n",
    "def call_model(state):\n",
    "    messages = state[\"messages\"]\n",
    "    response = model_with_tools.invoke(messages)\n",
    "    # We return a list, because this will get added to the existing list\n",
    "    return {\"messages\": [response]}\n",
    "\n",
    "# Define the function to execute tools\n",
    "def call_tool(state):\n",
    "    messages = state[\"messages\"]\n",
    "    # Based on the continue condition\n",
    "    # we know the last message involves a function call\n",
    "    last_message = messages[-1]\n",
    "    # We construct an ToolInvocation from the function_call\n",
    "    action = ToolInvocation(\n",
    "        tool=last_message.additional_kwargs[\"function_call\"][\"name\"],\n",
    "        tool_input=json.loads(\n",
    "            last_message.additional_kwargs[\"function_call\"][\"arguments\"]\n",
    "        ),\n",
    "    )\n",
    "    # We call the tool_executor and get back a response\n",
    "    response = tool_executor.invoke(action)\n",
    "    # We use the response to create a FunctionMessage\n",
    "    function_message = FunctionMessage(content=str(response), name=action.tool)\n",
    "    # We return a list, because this will get added to the existing list\n",
    "    return {\"messages\": [function_message]}"
   ]
  },
  {
   "cell_type": "markdown",
   "id": "679ca880-1819-46ab-aa5a-2dff863243d2",
   "metadata": {},
   "source": [
    "## Define the graph\n",
    "We can now put it all together and define the graph!"
   ]
  },
  {
   "cell_type": "code",
   "execution_count": 58,
   "id": "20fedc19-3b18-4026-b0c6-852833addb0c",
   "metadata": {},
   "outputs": [],
   "source": [
    "from langgraph.graph import StateGraph, END\n",
    "\n",
    "# Define a new graph\n",
    "workflow = StateGraph(AgentState)\n",
    "\n",
    "# Define the two nodes we will cycle between\n",
    "workflow.add_node(\"agent\", call_model)\n",
    "workflow.add_node(\"action\", call_tool)\n",
    "workflow.add_node(\"final\", call_tool)\n",
    "\n",
    "# Set the entrypoint as `agent`\n",
    "# This means that this node is the first one called\n",
    "workflow.set_entry_point(\"agent\")\n",
    "\n",
    "# We now add a conditional edge\n",
    "workflow.add_conditional_edges(\n",
    "    # First, we define the start node. We use `agent`.\n",
    "    # This means these are the edges taken after the `agent` node is called.\n",
    "    \"agent\",\n",
    "    # Next, we pass in the function that will determine which node is called next.\n",
    "    should_continue,\n",
    "    # Finally we pass in a mapping.\n",
    "    # The keys are strings, and the values are other nodes.\n",
    "    # END is a special node marking that the graph should finish.\n",
    "    # What will happen is we will call `should_continue`, and then the output of that\n",
    "    # will be matched against the keys in this mapping.\n",
    "    # Based on which one it matches, that node will then be called.\n",
    "    {\n",
    "        # If `tools`, then we call the tool node.\n",
    "        \"continue\": \"action\",\n",
    "        # Final call\n",
    "        \"final\": \"final\",\n",
    "        # Otherwise we finish.\n",
    "        \"end\": END,\n",
    "    },\n",
    ")\n",
    "\n",
    "# We now add a normal edge from `tools` to `agent`.\n",
    "# This means that after `tools` is called, `agent` node is called next.\n",
    "workflow.add_edge(\"action\", \"agent\")\n",
    "workflow.add_edge(\"final\", END)\n",
    "\n",
    "# Finally, we compile it!\n",
    "# This compiles it into a LangChain Runnable,\n",
    "# meaning you can use it as you would any other runnable\n",
    "app = workflow.compile()"
   ]
  },
  {
   "cell_type": "code",
   "execution_count": 59,
   "id": "e84ca66d-ab8e-42e6-8c1b-2350b4303dfb",
   "metadata": {},
   "outputs": [
    {
     "name": "stdout",
     "output_type": "stream",
     "text": [
      "Output from node 'agent':\n",
      "---\n",
      "{'messages': [AIMessage(content='', additional_kwargs={'function_call': {'arguments': '{\"query\":\"weather in San Francisco, United States\"}', 'name': 'tavily_search_results_json'}}, response_metadata={'finish_reason': 'function_call'})]}\n",
      "\n",
      "---\n",
      "\n",
      "Name of function call:  tavily_search_results_json\n",
      "Output from node 'action':\n",
      "---\n",
      "{'messages': [FunctionMessage(content='[{\\'url\\': \\'https://www.weatherapi.com/\\', \\'content\\': \"{\\'location\\': {\\'name\\': \\'San Francisco\\', \\'region\\': \\'California\\', \\'country\\': \\'United States of America\\', \\'lat\\': 37.78, \\'lon\\': -122.42, \\'tz_id\\': \\'America/Los_Angeles\\', \\'localtime_epoch\\': 1712827292, \\'localtime\\': \\'2024-04-11 2:21\\'}, \\'current\\': {\\'last_updated_epoch\\': 1712826900, \\'last_updated\\': \\'2024-04-11 02:15\\', \\'temp_c\\': 12.2, \\'temp_f\\': 54.0, \\'is_day\\': 0, \\'condition\\': {\\'text\\': \\'Partly cloudy\\', \\'icon\\': \\'//cdn.weatherapi.com/weather/64x64/night/116.png\\', \\'code\\': 1003}, \\'wind_mph\\': 9.4, \\'wind_kph\\': 15.1, \\'wind_degree\\': 300, \\'wind_dir\\': \\'WNW\\', \\'pressure_mb\\': 1016.0, \\'pressure_in\\': 30.01, \\'precip_mm\\': 0.0, \\'precip_in\\': 0.0, \\'humidity\\': 83, \\'cloud\\': 25, \\'feelslike_c\\': 11.7, \\'feelslike_f\\': 53.1, \\'vis_km\\': 16.0, \\'vis_miles\\': 9.0, \\'uv\\': 1.0, \\'gust_mph\\': 13.9, \\'gust_kph\\': 22.3}}\"}]', name='tavily_search_results_json')]}\n",
      "\n",
      "---\n",
      "\n",
      "Output from node 'agent':\n",
      "---\n",
      "{'messages': [AIMessage(content='', additional_kwargs={'function_call': {'arguments': '{\"temperature\":12.2,\"pressure\":1016,\"other_notes\":\"The weather in San Francisco is currently partly cloudy with a temperature of 12.2°C. The wind speed is 9.4 mph coming from WNW direction. The humidity is 83% and the pressure is 1016 mb.\"}', 'name': 'Response'}}, response_metadata={'finish_reason': 'function_call'})]}\n",
      "\n",
      "---\n",
      "\n",
      "Name of function call:  Response\n",
      "Output from node '__end__':\n",
      "---\n",
      "{'messages': [HumanMessage(content='what is the weather in San Fransciso, United States'), AIMessage(content='', additional_kwargs={'function_call': {'arguments': '{\"query\":\"weather in San Francisco, United States\"}', 'name': 'tavily_search_results_json'}}, response_metadata={'finish_reason': 'function_call'}), FunctionMessage(content='[{\\'url\\': \\'https://www.weatherapi.com/\\', \\'content\\': \"{\\'location\\': {\\'name\\': \\'San Francisco\\', \\'region\\': \\'California\\', \\'country\\': \\'United States of America\\', \\'lat\\': 37.78, \\'lon\\': -122.42, \\'tz_id\\': \\'America/Los_Angeles\\', \\'localtime_epoch\\': 1712827292, \\'localtime\\': \\'2024-04-11 2:21\\'}, \\'current\\': {\\'last_updated_epoch\\': 1712826900, \\'last_updated\\': \\'2024-04-11 02:15\\', \\'temp_c\\': 12.2, \\'temp_f\\': 54.0, \\'is_day\\': 0, \\'condition\\': {\\'text\\': \\'Partly cloudy\\', \\'icon\\': \\'//cdn.weatherapi.com/weather/64x64/night/116.png\\', \\'code\\': 1003}, \\'wind_mph\\': 9.4, \\'wind_kph\\': 15.1, \\'wind_degree\\': 300, \\'wind_dir\\': \\'WNW\\', \\'pressure_mb\\': 1016.0, \\'pressure_in\\': 30.01, \\'precip_mm\\': 0.0, \\'precip_in\\': 0.0, \\'humidity\\': 83, \\'cloud\\': 25, \\'feelslike_c\\': 11.7, \\'feelslike_f\\': 53.1, \\'vis_km\\': 16.0, \\'vis_miles\\': 9.0, \\'uv\\': 1.0, \\'gust_mph\\': 13.9, \\'gust_kph\\': 22.3}}\"}]', name='tavily_search_results_json'), AIMessage(content='', additional_kwargs={'function_call': {'arguments': '{\"temperature\":12.2,\"pressure\":1016,\"other_notes\":\"The weather in San Francisco is currently partly cloudy with a temperature of 12.2°C. The wind speed is 9.4 mph coming from WNW direction. The humidity is 83% and the pressure is 1016 mb.\"}', 'name': 'Response'}}, response_metadata={'finish_reason': 'function_call'})]}\n",
      "\n",
      "---\n",
      "\n"
     ]
    }
   ],
   "source": [
    "from langchain_core.messages import HumanMessage\n",
    "\n",
    "inputs = {\"messages\": [HumanMessage(content=\"what is the weather in San Fransciso, United States\")]}\n",
    "for output in app.stream(inputs):\n",
    "    # stream() yields dictionaries with output keyed by node name\n",
    "    for key, value in output.items():\n",
    "        print(f\"Output from node '{key}':\")\n",
    "        print(\"---\")\n",
    "        print(value)\n",
    "    print(\"\\n---\\n\")"
   ]
  },
  {
   "cell_type": "code",
   "execution_count": null,
   "id": "a127d2c6-6399-4a3a-bba2-7594a08cb1b7",
   "metadata": {},
   "outputs": [],
   "source": []
  }
 ],
 "metadata": {
  "kernelspec": {
   "display_name": "Python 3 (ipykernel)",
   "language": "python",
   "name": "python3"
  },
  "language_info": {
   "codemirror_mode": {
    "name": "ipython",
    "version": 3
   },
   "file_extension": ".py",
   "mimetype": "text/x-python",
   "name": "python",
   "nbconvert_exporter": "python",
   "pygments_lexer": "ipython3",
   "version": "3.11.7"
  }
 },
 "nbformat": 4,
 "nbformat_minor": 5
}
