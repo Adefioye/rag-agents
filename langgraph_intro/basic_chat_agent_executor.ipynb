{
 "cells": [
  {
   "cell_type": "markdown",
   "id": "d52de751-e636-4237-a662-e43abf205112",
   "metadata": {},
   "source": [
    "# Setup"
   ]
  },
  {
   "cell_type": "code",
   "execution_count": 1,
   "id": "2cf4f47c-dbfa-487f-8855-f26c4cc1c679",
   "metadata": {},
   "outputs": [
    {
     "name": "stdin",
     "output_type": "stream",
     "text": [
      "OPEN API KEY:  ········\n",
      "TAVILY API KEY:  ········\n"
     ]
    }
   ],
   "source": [
    "import os\n",
    "from getpass import getpass\n",
    "\n",
    "os.environ[\"OPENAI_API_KEY\"] = getpass(\"OPEN API KEY: \")\n",
    "os.environ[\"TAVILY_API_KEY\"] = getpass(\"TAVILY API KEY: \")"
   ]
  },
  {
   "cell_type": "markdown",
   "id": "8d8bc5b8-6d56-4406-9ba6-1a85762228a8",
   "metadata": {},
   "source": [
    "Set up Langsmith tracing credentials"
   ]
  },
  {
   "cell_type": "code",
   "execution_count": 3,
   "id": "7f1314e8-6a1b-457c-851d-fe02b0b132cb",
   "metadata": {},
   "outputs": [
    {
     "name": "stdin",
     "output_type": "stream",
     "text": [
      "LangSmith API Key: ········\n"
     ]
    }
   ],
   "source": [
    "os.environ[\"LANGCHAIN_TRACING_V2\"] = \"true\"\n",
    "os.environ[\"LANGCHAIN_API_KEY\"] = getpass(\"LangSmith API Key:\")"
   ]
  },
  {
   "cell_type": "markdown",
   "id": "538cfd7a-c59e-4889-a720-694665a5f7c4",
   "metadata": {},
   "source": [
    "# Set up tools"
   ]
  },
  {
   "cell_type": "code",
   "execution_count": 4,
   "id": "f0b97532-c773-46b8-9dfa-262e85f24810",
   "metadata": {},
   "outputs": [],
   "source": [
    "from langchain_community.tools.tavily_search import TavilySearchResults\n",
    "from langgraph.prebuilt import ToolExecutor\n",
    "\n",
    "tools = [TavilySearchResults(max_results=1)]\n",
    "tool_executor = ToolExecutor(tools)"
   ]
  },
  {
   "cell_type": "markdown",
   "id": "a3d0ebcf-b199-4e29-be88-593c16123862",
   "metadata": {},
   "source": [
    "# Setup model"
   ]
  },
  {
   "cell_type": "code",
   "execution_count": 5,
   "id": "2ecc7c68-30a7-47e5-8642-027b0bdac838",
   "metadata": {},
   "outputs": [],
   "source": [
    "from langchain_openai import ChatOpenAI \n",
    "\n",
    "model = ChatOpenAI(temperature=0, streaming=True)"
   ]
  },
  {
   "cell_type": "markdown",
   "id": "5f799da5-1808-481f-b40f-23e222721054",
   "metadata": {},
   "source": [
    "Convert langchain tools to openai function calling and binding them to the model"
   ]
  },
  {
   "cell_type": "code",
   "execution_count": 7,
   "id": "a374e1be-891d-439c-ba5c-3e35f8362ae5",
   "metadata": {},
   "outputs": [],
   "source": [
    "from  langchain_core.utils.function_calling import convert_to_openai_function\n",
    "\n",
    "functions = [convert_to_openai_function(t) for t in tools]\n",
    "model_with_tools = model.bind_functions(functions)"
   ]
  },
  {
   "cell_type": "markdown",
   "id": "d06dd6b9-8c67-4af6-a44c-ecbf4f7ff3f9",
   "metadata": {},
   "source": [
    "# Define the agent state"
   ]
  },
  {
   "cell_type": "code",
   "execution_count": 9,
   "id": "82009117-91cd-4b8b-a174-e0b45e992725",
   "metadata": {},
   "outputs": [],
   "source": [
    "from typing import TypedDict, Annotated, Sequence\n",
    "import operator\n",
    "from langchain_core.messages.base import BaseMessage\n",
    "\n",
    "class AgentState(TypedDict):\n",
    "    messages: Annotated[Sequence[BaseMessage], operator.add]"
   ]
  },
  {
   "cell_type": "markdown",
   "id": "266f40cb-30ae-46cb-b9b0-f65fe47437ff",
   "metadata": {},
   "source": [
    "# Define the nodes"
   ]
  },
  {
   "cell_type": "code",
   "execution_count": 21,
   "id": "058c1c07-59c0-4a61-aca1-01a240c87dbf",
   "metadata": {},
   "outputs": [],
   "source": [
    "from langgraph.prebuilt import ToolInvocation\n",
    "import json\n",
    "from langchain_core.messages import FunctionMessage\n",
    "\n",
    "# Define the function that calls the model\n",
    "def run_agent(state):\n",
    "    messages = state[\"messages\"]\n",
    "    response = model_with_tools.invoke(messages)\n",
    "    return {\"messages\": [response]}\n",
    "\n",
    "# Define the function that calls the tool\n",
    "def invoke_tool(state):\n",
    "    messages = state[\"messages\"]\n",
    "    # We know last message involves function call\n",
    "    last_message = messages[-1]\n",
    "    # We construct ToolInvocation from function_call\n",
    "    action = ToolInvocation(\n",
    "        tool=last_message.additional_kwargs[\"function_call\"][\"name\"],\n",
    "        tool_input=json.loads(last_message.additional_kwargs[\"function_call\"][\"arguments\"])\n",
    "    )\n",
    "    # Call the tool executor\n",
    "    response = tool_executor.invoke(action)\n",
    "    # We use the response to create a FunctionMessage\n",
    "    function_message = FunctionMessage(content=str(response), name=action.tool)\n",
    "\n",
    "    return {\"messages\": [function_message]}\n",
    "    \n",
    "# Define function for handling conditional edge\n",
    "def should_continue(state):\n",
    "    messages = state[\"messages\"]\n",
    "    last_message = messages[-1]\n",
    "\n",
    "    if \"function_call\" in last_message.additional_kwargs:\n",
    "        return \"continue\"\n",
    "        \n",
    "    return \"end\""
   ]
  },
  {
   "cell_type": "markdown",
   "id": "9c5cbc42-6199-4302-b405-d6076bfacc6d",
   "metadata": {},
   "source": [
    "# Define the graph"
   ]
  },
  {
   "cell_type": "code",
   "execution_count": 22,
   "id": "67cb96c4-10fc-4611-b164-225b1c65c665",
   "metadata": {},
   "outputs": [],
   "source": [
    "from langgraph.graph import StateGraph, END\n",
    "\n",
    "workflow = StateGraph(AgentState)\n",
    "\n",
    "# Define two nodes, agent and action\n",
    "workflow.add_node(\"agent\", run_agent)\n",
    "workflow.add_node(\"action\", invoke_tool)\n",
    "\n",
    "# Set the entry point\n",
    "workflow.set_entry_point(\"agent\")\n",
    "\n",
    "# Create a conditional edge for \"agent\"\n",
    "# If there is function_call, state flows from agent to action node, else flow ends\n",
    "workflow.add_conditional_edges(\n",
    "    \"agent\",\n",
    "    should_continue,\n",
    "    {\n",
    "        \"continue\": \"action\",\n",
    "        \"end\": END\n",
    "    }\n",
    ")\n",
    "\n",
    "# Define normal edge\n",
    "workflow.add_edge(\"action\", \"agent\")\n",
    "\n",
    "# Compile the workflow\n",
    "app = workflow.compile()"
   ]
  },
  {
   "cell_type": "markdown",
   "id": "7547f477-0ed7-4b7a-9d27-c77fbc3b477b",
   "metadata": {},
   "source": [
    "# Use tool"
   ]
  },
  {
   "cell_type": "code",
   "execution_count": 23,
   "id": "d16371ec-13b1-47ca-a344-bf6892f62b28",
   "metadata": {},
   "outputs": [
    {
     "data": {
      "text/plain": [
       "{'messages': [HumanMessage(content='What is the weather in Lagos, Nigeria'),\n",
       "  AIMessage(content='', additional_kwargs={'function_call': {'arguments': '{\"query\":\"weather in Lagos, Nigeria\"}', 'name': 'tavily_search_results_json'}}, response_metadata={'finish_reason': 'function_call'}),\n",
       "  FunctionMessage(content='[{\\'url\\': \\'https://www.weatherapi.com/\\', \\'content\\': \"Weather in Lagos, Nigeria is {\\'location\\': {\\'name\\': \\'Lagos\\', \\'region\\': \\'Lagos\\', \\'country\\': \\'Nigeria\\', \\'lat\\': 6.45, \\'lon\\': 3.4, \\'tz_id\\': \\'Africa/Lagos\\', \\'localtime_epoch\\': 1712181708, \\'localtime\\': \\'2024-04-03 23:01\\'}, \\'current\\': {\\'last_updated_epoch\\': 1712181600, \\'last_updated\\': \\'2024-04-03 23:00\\', \\'temp_c\\': 28.0, \\'temp_f\\': 82.4, \\'is_day\\': 0, \\'condition\\': {\\'text\\': \\'Partly cloudy\\', \\'icon\\': \\'//cdn.weatherapi.com/weather/64x64/night/116.png\\', \\'code\\': 1003}, \\'wind_mph\\': 3.8, \\'wind_kph\\': 6.1, \\'wind_degree\\': 170, \\'wind_dir\\': \\'S\\', \\'pressure_mb\\': 1010.0, \\'pressure_in\\': 29.83, \\'precip_mm\\': 0.0, \\'precip_in\\': 0.0, \\'humidity\\': 89, \\'cloud\\': 25, \\'feelslike_c\\': 32.6, \\'feelslike_f\\': 90.7, \\'vis_km\\': 10.0, \\'vis_miles\\': 6.0, \\'uv\\': 1.0, \\'gust_mph\\': 20.8, \\'gust_kph\\': 33.4}}\"}]', name='tavily_search_results_json'),\n",
       "  AIMessage(content='The current weather in Lagos, Nigeria is as follows:\\n- Temperature: 28.0°C (82.4°F)\\n- Condition: Partly cloudy\\n- Wind: 6.1 km/h from the south\\n- Pressure: 1010.0 mb\\n- Humidity: 89%\\n- Visibility: 10.0 km\\n- UV Index: 1.0\\n\\nIt is currently nighttime in Lagos.', response_metadata={'finish_reason': 'stop'})]}"
      ]
     },
     "execution_count": 23,
     "metadata": {},
     "output_type": "execute_result"
    }
   ],
   "source": [
    "from langchain_core.messages import HumanMessage\n",
    "\n",
    "inputs = {\"messages\": [HumanMessage(content=\"What is the weather in Lagos, Nigeria\")]}\n",
    "app.invoke(inputs)"
   ]
  },
  {
   "cell_type": "code",
   "execution_count": null,
   "id": "c9100854-c3c0-4be2-a192-536863f46fa5",
   "metadata": {},
   "outputs": [],
   "source": []
  },
  {
   "cell_type": "code",
   "execution_count": null,
   "id": "9e38f8ff-f4bc-45d3-a91e-a0b69f177481",
   "metadata": {},
   "outputs": [],
   "source": []
  }
 ],
 "metadata": {
  "kernelspec": {
   "display_name": "rag-and-agents-2",
   "language": "python",
   "name": "rag-and-agents-2"
  },
  "language_info": {
   "codemirror_mode": {
    "name": "ipython",
    "version": 3
   },
   "file_extension": ".py",
   "mimetype": "text/x-python",
   "name": "python",
   "nbconvert_exporter": "python",
   "pygments_lexer": "ipython3",
   "version": "3.11.7"
  }
 },
 "nbformat": 4,
 "nbformat_minor": 5
}
