{
 "cells": [
  {
   "cell_type": "markdown",
   "id": "75a1c7bc-378e-4cd8-b318-f88faf5a9873",
   "metadata": {},
   "source": [
    "# Dynamically Returning Directly\r\n",
    "In this example we will build a chat executor where the LLM can optionally decide to return the result of a tool call as the final answer. This is useful in cases where you have tools that can sometimes generate responses that are acceptable as final answers, and you want to use the LLM to determine when that is the case\r\n",
    "\r\n",
    "This examples builds off the base chat executor. It is highly recommended you learn about that executor before going through this notebook. You can find documentation for that example here.\r\n",
    "\r\n",
    "Any modifications of that example are called below **MODIFICATION**, so if you are  are looking for the differences you can just search for that."
   ]
  },
  {
   "cell_type": "markdown",
   "id": "9d48466a-a1c7-4fe6-ad4d-8bf089d0befe",
   "metadata": {},
   "source": [
    "## Set up"
   ]
  },
  {
   "cell_type": "code",
   "execution_count": 3,
   "id": "d4fac9b6-8263-4338-b1f2-d7914d1bc6f4",
   "metadata": {},
   "outputs": [
    {
     "name": "stdin",
     "output_type": "stream",
     "text": [
      "OpenAI API Key: ········\n",
      "Tavily API Key: ········\n"
     ]
    }
   ],
   "source": [
    "import os\n",
    "import getpass\n",
    "\n",
    "os.environ[\"OPENAI_API_KEY\"] = getpass.getpass(\"OpenAI API Key:\")\n",
    "os.environ[\"TAVILY_API_KEY\"] = getpass.getpass(\"Tavily API Key:\")"
   ]
  },
  {
   "cell_type": "markdown",
   "id": "31c4c056-780b-498e-bf8f-4b85ff0a456f",
   "metadata": {},
   "source": [
    "Optionally, we can set API key for LangSmith tracing, which will give us best-in-class observability."
   ]
  },
  {
   "cell_type": "code",
   "execution_count": 4,
   "id": "0037297b-39a6-4b3c-8bb2-001961227793",
   "metadata": {},
   "outputs": [
    {
     "name": "stdin",
     "output_type": "stream",
     "text": [
      "LangSmith API Key: ········\n"
     ]
    }
   ],
   "source": [
    "os.environ[\"LANGCHAIN_TRACING_V2\"] = \"true\"\n",
    "os.environ[\"LANGCHAIN_API_KEY\"] = getpass.getpass(\"LangSmith API Key:\")"
   ]
  },
  {
   "cell_type": "markdown",
   "id": "96781d56-5322-4614-84a3-6f1a9a714790",
   "metadata": {},
   "source": [
    "## Set up the tools\n",
    "We will first define the tools we want to use. For this simple example, we will use a built-in search tool via Tavily. However, it is really easy to create your own tools - see documentation here on how to do that."
   ]
  },
  {
   "cell_type": "markdown",
   "id": "e84ae98b-837c-4ec1-839d-aea650b3c6d5",
   "metadata": {},
   "source": [
    "**MODIFICATION**\n",
    "  \n",
    "We overwrite the default schema of the input tool to have an additional parameter for returning directly."
   ]
  },
  {
   "cell_type": "code",
   "execution_count": 36,
   "id": "d7e27be3-081e-4237-a88e-7ebbca1c9f2f",
   "metadata": {},
   "outputs": [],
   "source": [
    "from pydantic import BaseModel, Field\n",
    "\n",
    "class SearchTool(BaseModel):\n",
    "    query: str = Field(description=\"The query passed to the search tool\")\n",
    "    return_direct: bool = Field(\n",
    "        description=\"Whether or not the result of the search tool should be returned directly to the user\",\n",
    "        default=False\n",
    "    )"
   ]
  },
  {
   "cell_type": "code",
   "execution_count": 37,
   "id": "27d1829e-2610-4117-a7f6-27a300b9eac1",
   "metadata": {},
   "outputs": [],
   "source": [
    "from langchain_community.tools.tavily_search import TavilySearchResults\n",
    "\n",
    "search_tool = TavilySearchResults(max_results=1, args_schema=SearchTool)\n",
    "tools = [search_tool]"
   ]
  },
  {
   "cell_type": "code",
   "execution_count": 38,
   "id": "499f3ab7-a5ca-4871-83af-f0dd7d277038",
   "metadata": {},
   "outputs": [],
   "source": [
    "from langgraph.prebuilt import ToolExecutor\n",
    "\n",
    "tool_executor = ToolExecutor(tools)"
   ]
  },
  {
   "cell_type": "markdown",
   "id": "6dbefeb2-6c36-4da1-96ec-ba58c748d51f",
   "metadata": {},
   "source": [
    "## Set up model"
   ]
  },
  {
   "cell_type": "code",
   "execution_count": 39,
   "id": "65f36240-2856-4f35-8ac0-c283b803512e",
   "metadata": {},
   "outputs": [],
   "source": [
    "from langchain_openai import ChatOpenAI\n",
    "\n",
    "model = ChatOpenAI(temperature=0, streaming=True)"
   ]
  },
  {
   "cell_type": "code",
   "execution_count": 40,
   "id": "0ad0c797-791f-4c01-9638-a1eac312978b",
   "metadata": {},
   "outputs": [],
   "source": [
    "from  langchain_core.utils.function_calling import convert_to_openai_function\n",
    "\n",
    "functions = [convert_to_openai_function(t) for t in tools]\n",
    "model_with_tools = model.bind_functions(functions)"
   ]
  },
  {
   "cell_type": "markdown",
   "id": "99df7a8d-adbd-4329-b04b-de21b8f04648",
   "metadata": {},
   "source": [
    "## Define the agent state"
   ]
  },
  {
   "cell_type": "code",
   "execution_count": 41,
   "id": "95d05623-8403-4d35-9b81-babc3332f394",
   "metadata": {},
   "outputs": [],
   "source": [
    "from typing import TypedDict, Annotated, Sequence\n",
    "import operator\n",
    "from langchain_core.messages import BaseMessage\n",
    "\n",
    "class AgentState(TypedDict):\n",
    "    messages: Annotated[Sequence[BaseMessage], operator.add]"
   ]
  },
  {
   "cell_type": "markdown",
   "id": "511023c2-ef24-4794-bd96-3913e40f741e",
   "metadata": {},
   "source": [
    "## Define the nodes"
   ]
  },
  {
   "cell_type": "code",
   "execution_count": 42,
   "id": "df66e348-ffaa-4ace-973f-3295058376b9",
   "metadata": {},
   "outputs": [],
   "source": [
    "from langgraph.prebuilt import ToolInvocation\n",
    "import json\n",
    "from langchain_core.messages import FunctionMessage"
   ]
  },
  {
   "cell_type": "markdown",
   "id": "19d054fd-54e0-4565-b636-2c2cd51f6ff8",
   "metadata": {},
   "source": [
    "**MODIFICATION**\n",
    "\n",
    "We change the `should_continue` function to check whether return_direct was set to True"
   ]
  },
  {
   "cell_type": "code",
   "execution_count": 49,
   "id": "e0fe8d08-985d-47ce-b2c0-ca61847f56ad",
   "metadata": {},
   "outputs": [],
   "source": [
    "# Define the function that determines whether to continue or not\n",
    "def should_continue(state):\n",
    "    messages = state[\"messages\"]\n",
    "    last_message = messages[-1]\n",
    "    # If there is no function call, then we finish\n",
    "    if \"function_call\" not in last_message.additional_kwargs:\n",
    "        return \"end\"\n",
    "    # Otherwise if there is, we check if it's suppose to return direct\n",
    "    else:\n",
    "        arguments = json.loads(\n",
    "            last_message.additional_kwargs[\"function_call\"][\"arguments\"]\n",
    "        )\n",
    "        if arguments.get(\"return_direct\"):\n",
    "            return \"final\"\n",
    "        else:\n",
    "            return \"continue\""
   ]
  },
  {
   "cell_type": "code",
   "execution_count": 50,
   "id": "a20a0db2-f5d4-458b-aa7d-a9442fed464d",
   "metadata": {},
   "outputs": [],
   "source": [
    "# Define the function that calls the model\n",
    "def call_model(state):\n",
    "    messages = state[\"messages\"]\n",
    "    response = model_with_tools.invoke(messages)\n",
    "    # We return a list, because this will get added to the existing list\n",
    "    return {\"messages\": [response]}"
   ]
  },
  {
   "cell_type": "markdown",
   "id": "126ae918-c98b-41c0-943a-9feaa3b93dcc",
   "metadata": {},
   "source": [
    "__MODIFICATION__\n",
    "\n",
    "We change the tool calling to get rid of the return_direct parameter (not used in the actual tool call)"
   ]
  },
  {
   "cell_type": "code",
   "execution_count": 51,
   "id": "c4beca78-f2a4-49b2-826a-3cac08aa484c",
   "metadata": {},
   "outputs": [],
   "source": [
    "# Define the function to execute tools\n",
    "def call_tool(state):\n",
    "    messages = state[\"messages\"]\n",
    "    # Based on the continue condition\n",
    "    # we know the last message involves a function call\n",
    "    last_message = messages[-1]\n",
    "    # We construct an ToolInvocation from the function_call\n",
    "    tool_name = last_message.additional_kwargs[\"function_call\"][\"name\"]\n",
    "    arguments = json.loads(last_message.additional_kwargs[\"function_call\"][\"arguments\"])\n",
    "    if tool_name == \"tavily_search_results_json\":\n",
    "        if \"return_direct\" in arguments:\n",
    "            del arguments[\"return_direct\"]\n",
    "    action = ToolInvocation(\n",
    "        tool=tool_name,\n",
    "        tool_input=arguments,\n",
    "    )\n",
    "    # We call the tool_executor and get back a response\n",
    "    response = tool_executor.invoke(action)\n",
    "    # We use the response to create a FunctionMessage\n",
    "    function_message = FunctionMessage(content=str(response), name=action.tool)\n",
    "    # We return a list, because this will get added to the existing list\n",
    "    return {\"messages\": [function_message]}"
   ]
  },
  {
   "cell_type": "markdown",
   "id": "64f8c1d1-7a7e-403c-b39c-f4fbb8ebcaa7",
   "metadata": {},
   "source": [
    "## Define the graph\n",
    "We can now put it all together and define the graph!\n",
    "\n",
    "__MODIFICATION__\n",
    "\n",
    "We add a separate node for any tool call where `return_direct=True`. The reason this is needed is that after this node we want to end, while after other tool calls we want to go back to the LLM."
   ]
  },
  {
   "cell_type": "code",
   "execution_count": 52,
   "id": "5def2210-6dc9-4bd0-8f1f-4e3b1634dffe",
   "metadata": {},
   "outputs": [],
   "source": [
    "from langgraph.graph import StateGraph, END\n",
    "\n",
    "# Define a new graph\n",
    "workflow = StateGraph(AgentState)\n",
    "\n",
    "# Define the two nodes we will cycle between\n",
    "workflow.add_node(\"agent\", call_model)\n",
    "workflow.add_node(\"action\", call_tool)\n",
    "workflow.add_node(\"final\", call_tool)\n",
    "\n",
    "# Set the entrypoint as `agent`\n",
    "# This means that this node is the first one called\n",
    "workflow.set_entry_point(\"agent\")\n",
    "\n",
    "# We now add a conditional edge\n",
    "workflow.add_conditional_edges(\n",
    "    # First, we define the start node. We use `agent`.\n",
    "    # This means these are the edges taken after the `agent` node is called.\n",
    "    \"agent\",\n",
    "    # Next, we pass in the function that will determine which node is called next.\n",
    "    should_continue,\n",
    "    # Finally we pass in a mapping.\n",
    "    # The keys are strings, and the values are other nodes.\n",
    "    # END is a special node marking that the graph should finish.\n",
    "    # What will happen is we will call `should_continue`, and then the output of that\n",
    "    # will be matched against the keys in this mapping.\n",
    "    # Based on which one it matches, that node will then be called.\n",
    "    {\n",
    "        # If `tools`, then we call the tool node.\n",
    "        \"continue\": \"action\",\n",
    "        # Final call\n",
    "        \"final\": \"final\",\n",
    "        # Otherwise we finish.\n",
    "        \"end\": END,\n",
    "    },\n",
    ")\n",
    "\n",
    "# We now add a normal edge from `tools` to `agent`.\n",
    "# This means that after `tools` is called, `agent` node is called next.\n",
    "workflow.add_edge(\"action\", \"agent\")\n",
    "workflow.add_edge(\"final\", END)\n",
    "\n",
    "# Finally, we compile it!\n",
    "# This compiles it into a LangChain Runnable,\n",
    "# meaning you can use it as you would any other runnable\n",
    "app = workflow.compile()"
   ]
  },
  {
   "cell_type": "markdown",
   "id": "1ad3efdd-4736-440d-b112-bb791251330b",
   "metadata": {},
   "source": [
    "## Use it!\r\n",
    "We can now use it! This now exposes the same interface as all other LangChain runnables."
   ]
  },
  {
   "cell_type": "code",
   "execution_count": 53,
   "id": "789b59fb-a90d-4e32-a48e-9c4aa7b1eb36",
   "metadata": {},
   "outputs": [
    {
     "name": "stdout",
     "output_type": "stream",
     "text": [
      "Output from node 'agent':\n",
      "---\n",
      "{'messages': [AIMessage(content='', additional_kwargs={'function_call': {'arguments': '{\"query\":\"weather in Lagos, Nigeria\",\"return_direct\":false}', 'name': 'tavily_search_results_json'}}, response_metadata={'finish_reason': 'function_call'})]}\n",
      "\n",
      "---\n",
      "\n",
      "Output from node 'action':\n",
      "---\n",
      "{'messages': [FunctionMessage(content='[{\\'url\\': \\'https://www.weatherapi.com/\\', \\'content\\': \"{\\'location\\': {\\'name\\': \\'Lagos\\', \\'region\\': \\'Lagos\\', \\'country\\': \\'Nigeria\\', \\'lat\\': 6.45, \\'lon\\': 3.4, \\'tz_id\\': \\'Africa/Lagos\\', \\'localtime_epoch\\': 1712818511, \\'localtime\\': \\'2024-04-11 7:55\\'}, \\'current\\': {\\'last_updated_epoch\\': 1712817900, \\'last_updated\\': \\'2024-04-11 07:45\\', \\'temp_c\\': 26.0, \\'temp_f\\': 78.8, \\'is_day\\': 1, \\'condition\\': {\\'text\\': \\'Partly cloudy\\', \\'icon\\': \\'//cdn.weatherapi.com/weather/64x64/day/116.png\\', \\'code\\': 1003}, \\'wind_mph\\': 8.1, \\'wind_kph\\': 13.0, \\'wind_degree\\': 320, \\'wind_dir\\': \\'NW\\', \\'pressure_mb\\': 1010.0, \\'pressure_in\\': 29.83, \\'precip_mm\\': 0.0, \\'precip_in\\': 0.0, \\'humidity\\': 94, \\'cloud\\': 25, \\'feelslike_c\\': 28.1, \\'feelslike_f\\': 82.6, \\'vis_km\\': 10.0, \\'vis_miles\\': 6.0, \\'uv\\': 7.0, \\'gust_mph\\': 10.2, \\'gust_kph\\': 16.4}}\"}]', name='tavily_search_results_json')]}\n",
      "\n",
      "---\n",
      "\n",
      "Output from node 'agent':\n",
      "---\n",
      "{'messages': [AIMessage(content='The current weather in Lagos, Nigeria is partly cloudy with a temperature of 26.0°C (78.8°F). The wind speed is 13.0 km/h coming from the northwest direction. The humidity is at 94% and the visibility is 10.0 km.', response_metadata={'finish_reason': 'stop'})]}\n",
      "\n",
      "---\n",
      "\n",
      "Output from node '__end__':\n",
      "---\n",
      "{'messages': [HumanMessage(content='what is the weather in Lagos, Nigeria? Please set return_direct = False'), AIMessage(content='', additional_kwargs={'function_call': {'arguments': '{\"query\":\"weather in Lagos, Nigeria\",\"return_direct\":false}', 'name': 'tavily_search_results_json'}}, response_metadata={'finish_reason': 'function_call'}), FunctionMessage(content='[{\\'url\\': \\'https://www.weatherapi.com/\\', \\'content\\': \"{\\'location\\': {\\'name\\': \\'Lagos\\', \\'region\\': \\'Lagos\\', \\'country\\': \\'Nigeria\\', \\'lat\\': 6.45, \\'lon\\': 3.4, \\'tz_id\\': \\'Africa/Lagos\\', \\'localtime_epoch\\': 1712818511, \\'localtime\\': \\'2024-04-11 7:55\\'}, \\'current\\': {\\'last_updated_epoch\\': 1712817900, \\'last_updated\\': \\'2024-04-11 07:45\\', \\'temp_c\\': 26.0, \\'temp_f\\': 78.8, \\'is_day\\': 1, \\'condition\\': {\\'text\\': \\'Partly cloudy\\', \\'icon\\': \\'//cdn.weatherapi.com/weather/64x64/day/116.png\\', \\'code\\': 1003}, \\'wind_mph\\': 8.1, \\'wind_kph\\': 13.0, \\'wind_degree\\': 320, \\'wind_dir\\': \\'NW\\', \\'pressure_mb\\': 1010.0, \\'pressure_in\\': 29.83, \\'precip_mm\\': 0.0, \\'precip_in\\': 0.0, \\'humidity\\': 94, \\'cloud\\': 25, \\'feelslike_c\\': 28.1, \\'feelslike_f\\': 82.6, \\'vis_km\\': 10.0, \\'vis_miles\\': 6.0, \\'uv\\': 7.0, \\'gust_mph\\': 10.2, \\'gust_kph\\': 16.4}}\"}]', name='tavily_search_results_json'), AIMessage(content='The current weather in Lagos, Nigeria is partly cloudy with a temperature of 26.0°C (78.8°F). The wind speed is 13.0 km/h coming from the northwest direction. The humidity is at 94% and the visibility is 10.0 km.', response_metadata={'finish_reason': 'stop'})]}\n",
      "\n",
      "---\n",
      "\n"
     ]
    }
   ],
   "source": [
    "from langchain_core.messages import HumanMessage\n",
    "\n",
    "inputs = {\"messages\": [HumanMessage(content=\"what is the weather in Lagos, Nigeria? Please set return_direct = False\")]}\n",
    "for output in app.stream(inputs):\n",
    "    # stream() yields dictionaries with output keyed by node name\n",
    "    for key, value in output.items():\n",
    "        print(f\"Output from node '{key}':\")\n",
    "        print(\"---\")\n",
    "        print(value)\n",
    "    print(\"\\n---\\n\")"
   ]
  },
  {
   "cell_type": "markdown",
   "id": "b7398c6c-0670-412e-8fb7-b8cca64b845d",
   "metadata": {},
   "source": [
    "**Setting `return_redirect` to True**"
   ]
  },
  {
   "cell_type": "code",
   "execution_count": 54,
   "id": "3ffed666-ae0a-4eee-86ed-85991d22775d",
   "metadata": {},
   "outputs": [
    {
     "name": "stdout",
     "output_type": "stream",
     "text": [
      "Output from node 'agent':\n",
      "---\n",
      "{'messages': [AIMessage(content='', additional_kwargs={'function_call': {'arguments': '{\"query\":\"weather in Lagos, Nigeria\",\"return_direct\":true}', 'name': 'tavily_search_results_json'}}, response_metadata={'finish_reason': 'function_call'})]}\n",
      "\n",
      "---\n",
      "\n",
      "Output from node 'final':\n",
      "---\n",
      "{'messages': [FunctionMessage(content='[{\\'url\\': \\'https://www.weatherapi.com/\\', \\'content\\': \"{\\'location\\': {\\'name\\': \\'Lagos\\', \\'region\\': \\'Lagos\\', \\'country\\': \\'Nigeria\\', \\'lat\\': 6.45, \\'lon\\': 3.4, \\'tz_id\\': \\'Africa/Lagos\\', \\'localtime_epoch\\': 1712818511, \\'localtime\\': \\'2024-04-11 7:55\\'}, \\'current\\': {\\'last_updated_epoch\\': 1712817900, \\'last_updated\\': \\'2024-04-11 07:45\\', \\'temp_c\\': 26.0, \\'temp_f\\': 78.8, \\'is_day\\': 1, \\'condition\\': {\\'text\\': \\'Partly cloudy\\', \\'icon\\': \\'//cdn.weatherapi.com/weather/64x64/day/116.png\\', \\'code\\': 1003}, \\'wind_mph\\': 8.1, \\'wind_kph\\': 13.0, \\'wind_degree\\': 320, \\'wind_dir\\': \\'NW\\', \\'pressure_mb\\': 1010.0, \\'pressure_in\\': 29.83, \\'precip_mm\\': 0.0, \\'precip_in\\': 0.0, \\'humidity\\': 94, \\'cloud\\': 25, \\'feelslike_c\\': 28.1, \\'feelslike_f\\': 82.6, \\'vis_km\\': 10.0, \\'vis_miles\\': 6.0, \\'uv\\': 7.0, \\'gust_mph\\': 10.2, \\'gust_kph\\': 16.4}}\"}]', name='tavily_search_results_json')]}\n",
      "\n",
      "---\n",
      "\n",
      "Output from node '__end__':\n",
      "---\n",
      "{'messages': [HumanMessage(content='what is the weather in Lagos, Nigeria? Please set return_direct = True'), AIMessage(content='', additional_kwargs={'function_call': {'arguments': '{\"query\":\"weather in Lagos, Nigeria\",\"return_direct\":true}', 'name': 'tavily_search_results_json'}}, response_metadata={'finish_reason': 'function_call'}), FunctionMessage(content='[{\\'url\\': \\'https://www.weatherapi.com/\\', \\'content\\': \"{\\'location\\': {\\'name\\': \\'Lagos\\', \\'region\\': \\'Lagos\\', \\'country\\': \\'Nigeria\\', \\'lat\\': 6.45, \\'lon\\': 3.4, \\'tz_id\\': \\'Africa/Lagos\\', \\'localtime_epoch\\': 1712818511, \\'localtime\\': \\'2024-04-11 7:55\\'}, \\'current\\': {\\'last_updated_epoch\\': 1712817900, \\'last_updated\\': \\'2024-04-11 07:45\\', \\'temp_c\\': 26.0, \\'temp_f\\': 78.8, \\'is_day\\': 1, \\'condition\\': {\\'text\\': \\'Partly cloudy\\', \\'icon\\': \\'//cdn.weatherapi.com/weather/64x64/day/116.png\\', \\'code\\': 1003}, \\'wind_mph\\': 8.1, \\'wind_kph\\': 13.0, \\'wind_degree\\': 320, \\'wind_dir\\': \\'NW\\', \\'pressure_mb\\': 1010.0, \\'pressure_in\\': 29.83, \\'precip_mm\\': 0.0, \\'precip_in\\': 0.0, \\'humidity\\': 94, \\'cloud\\': 25, \\'feelslike_c\\': 28.1, \\'feelslike_f\\': 82.6, \\'vis_km\\': 10.0, \\'vis_miles\\': 6.0, \\'uv\\': 7.0, \\'gust_mph\\': 10.2, \\'gust_kph\\': 16.4}}\"}]', name='tavily_search_results_json')]}\n",
      "\n",
      "---\n",
      "\n"
     ]
    }
   ],
   "source": [
    "from langchain_core.messages import HumanMessage\n",
    "\n",
    "inputs = {\n",
    "    \"messages\": [\n",
    "        HumanMessage(\n",
    "            content=\"what is the weather in Lagos, Nigeria? Please set return_direct = True\"\n",
    "        )\n",
    "    ]\n",
    "}\n",
    "for output in app.stream(inputs):\n",
    "    # stream() yields dictionaries with output keyed by node name\n",
    "    for key, value in output.items():\n",
    "        print(f\"Output from node '{key}':\")\n",
    "        print(\"---\")\n",
    "        print(value)\n",
    "    print(\"\\n---\\n\")"
   ]
  },
  {
   "cell_type": "code",
   "execution_count": null,
   "id": "c71908bd-4ff9-466d-bb9d-a24119cd61b7",
   "metadata": {},
   "outputs": [],
   "source": []
  }
 ],
 "metadata": {
  "kernelspec": {
   "display_name": "Python 3 (ipykernel)",
   "language": "python",
   "name": "python3"
  },
  "language_info": {
   "codemirror_mode": {
    "name": "ipython",
    "version": 3
   },
   "file_extension": ".py",
   "mimetype": "text/x-python",
   "name": "python",
   "nbconvert_exporter": "python",
   "pygments_lexer": "ipython3",
   "version": "3.11.7"
  }
 },
 "nbformat": 4,
 "nbformat_minor": 5
}
